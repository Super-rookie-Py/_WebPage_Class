{
  "nbformat": 4,
  "nbformat_minor": 0,
  "metadata": {
    "colab": {
      "name": "박건우 - _음악 순위 스크래핑.ipynb",
      "provenance": [],
      "collapsed_sections": [],
      "include_colab_link": true
    },
    "kernelspec": {
      "name": "python3",
      "display_name": "Python 3"
    }
  },
  "cells": [
    {
      "cell_type": "markdown",
      "metadata": {
        "id": "view-in-github",
        "colab_type": "text"
      },
      "source": [
        "<a href=\"https://colab.research.google.com/github/Super-rookie-Py/_WebProgramming_Class/blob/master/%EB%B0%95%EA%B1%B4%EC%9A%B0__%EC%9D%8C%EC%95%85_%EC%88%9C%EC%9C%84_%EC%8A%A4%ED%81%AC%EB%9E%98%ED%95%91.ipynb\" target=\"_parent\"><img src=\"https://colab.research.google.com/assets/colab-badge.svg\" alt=\"Open In Colab\"/></a>"
      ]
    },
    {
      "cell_type": "markdown",
      "metadata": {
        "id": "UPHtVV-4zEJ6",
        "colab_type": "text"
      },
      "source": [
        "# BeautyfulSoup 음악 순위 스크래핑\n",
        "\n",
        "* 네이버 뮤직: https://music.naver.com/listen/top100.nhn\n",
        "\n",
        "- keonwoo Park 2020/09/14"
      ]
    },
    {
      "cell_type": "code",
      "metadata": {
        "id": "a2AVpROOyqKw",
        "colab_type": "code",
        "colab": {}
      },
      "source": [
        "from bs4 import BeautifulSoup\n",
        "import urllib.request\n",
        "import pandas as pd\n",
        "\n",
        "\n",
        "url_p1 = 'https://music.naver.com/listen/top100.nhn'\n",
        "url_p2 =  'https://music.naver.com/listen/top100.nhn?page=2'\n",
        "\n",
        "def get_music_ranks(url):\n",
        "  search_url = urllib.request.urlopen(urls).read()\n",
        "  soup = BeautifulSoup(search_url, 'html.parser')\n",
        "\n",
        "  soup_titles = soup.select('a._title span.ellipsis')\n",
        "  titles = [title.get_text() for title in soup_titles]\n",
        "  soup_artists = soup.select('td.artist.artist > a > span')\n",
        "  artists = [artist.get_text().strip() for artist in soup_artists]\n",
        "\n",
        "  return titles, artists"
      ],
      "execution_count": 8,
      "outputs": []
    },
    {
      "cell_type": "code",
      "metadata": {
        "id": "2lA0Vl_dZkJ8",
        "colab_type": "code",
        "colab": {
          "base_uri": "https://localhost:8080/",
          "height": 406
        },
        "outputId": "b3cb870f-7ad7-468c-cc94-347450ec618b"
      },
      "source": [
        "titles_50, artists_50 = get_music_ranks(url_p1)\n",
        "titles_100, artists_100 = get_music_ranks(url_p2)\n",
        "\n",
        "ranks = [rank for rank in range(1,101)]\n",
        "rank_df = pd.DataFrame({'Rank':ranks,\n",
        "                        \"Title\": titles_50 + titles_100,\n",
        "                        \"Artist\": artists_50 + artists_100})\n",
        "rank_df"
      ],
      "execution_count": 10,
      "outputs": [
        {
          "output_type": "execute_result",
          "data": {
            "text/html": [
              "<div>\n",
              "<style scoped>\n",
              "    .dataframe tbody tr th:only-of-type {\n",
              "        vertical-align: middle;\n",
              "    }\n",
              "\n",
              "    .dataframe tbody tr th {\n",
              "        vertical-align: top;\n",
              "    }\n",
              "\n",
              "    .dataframe thead th {\n",
              "        text-align: right;\n",
              "    }\n",
              "</style>\n",
              "<table border=\"1\" class=\"dataframe\">\n",
              "  <thead>\n",
              "    <tr style=\"text-align: right;\">\n",
              "      <th></th>\n",
              "      <th>Rank</th>\n",
              "      <th>Title</th>\n",
              "      <th>Artist</th>\n",
              "    </tr>\n",
              "  </thead>\n",
              "  <tbody>\n",
              "    <tr>\n",
              "      <th>0</th>\n",
              "      <td>1</td>\n",
              "      <td>Dynamite</td>\n",
              "      <td>방탄소년단</td>\n",
              "    </tr>\n",
              "    <tr>\n",
              "      <th>1</th>\n",
              "      <td>2</td>\n",
              "      <td>마리아 (Maria)</td>\n",
              "      <td>화사(Hwa Sa)</td>\n",
              "    </tr>\n",
              "    <tr>\n",
              "      <th>2</th>\n",
              "      <td>3</td>\n",
              "      <td>다시 여기 바닷가</td>\n",
              "      <td>싹쓰리(유두래곤, 린다G, 비룡)</td>\n",
              "    </tr>\n",
              "    <tr>\n",
              "      <th>3</th>\n",
              "      <td>4</td>\n",
              "      <td>When We Disco (Duet with 선미)</td>\n",
              "      <td>박진영</td>\n",
              "    </tr>\n",
              "    <tr>\n",
              "      <th>4</th>\n",
              "      <td>5</td>\n",
              "      <td>Ice Cream (with Selena Gomez)</td>\n",
              "      <td>BLACKPINK</td>\n",
              "    </tr>\n",
              "    <tr>\n",
              "      <th>...</th>\n",
              "      <td>...</td>\n",
              "      <td>...</td>\n",
              "      <td>...</td>\n",
              "    </tr>\n",
              "    <tr>\n",
              "      <th>95</th>\n",
              "      <td>96</td>\n",
              "      <td>밤편지</td>\n",
              "      <td>아이유(IU)</td>\n",
              "    </tr>\n",
              "    <tr>\n",
              "      <th>96</th>\n",
              "      <td>97</td>\n",
              "      <td>Paris In The Rain</td>\n",
              "      <td>Lauv</td>\n",
              "    </tr>\n",
              "    <tr>\n",
              "      <th>97</th>\n",
              "      <td>98</td>\n",
              "      <td>처음처럼</td>\n",
              "      <td>엠씨더맥스(M.C the MAX)</td>\n",
              "    </tr>\n",
              "    <tr>\n",
              "      <th>98</th>\n",
              "      <td>99</td>\n",
              "      <td>밤새 (취향저격 그녀 X 카더가든)</td>\n",
              "      <td>카더가든</td>\n",
              "    </tr>\n",
              "    <tr>\n",
              "      <th>99</th>\n",
              "      <td>100</td>\n",
              "      <td>오래된 노래</td>\n",
              "      <td>스탠딩 에그(Standing Egg)</td>\n",
              "    </tr>\n",
              "  </tbody>\n",
              "</table>\n",
              "<p>100 rows × 3 columns</p>\n",
              "</div>"
            ],
            "text/plain": [
              "    Rank                          Title                Artist\n",
              "0      1                       Dynamite                 방탄소년단\n",
              "1      2                    마리아 (Maria)            화사(Hwa Sa)\n",
              "2      3                      다시 여기 바닷가    싹쓰리(유두래곤, 린다G, 비룡)\n",
              "3      4   When We Disco (Duet with 선미)                   박진영\n",
              "4      5  Ice Cream (with Selena Gomez)             BLACKPINK\n",
              "..   ...                            ...                   ...\n",
              "95    96                            밤편지               아이유(IU)\n",
              "96    97              Paris In The Rain                  Lauv\n",
              "97    98                           처음처럼    엠씨더맥스(M.C the MAX)\n",
              "98    99            밤새 (취향저격 그녀 X 카더가든)                  카더가든\n",
              "99   100                         오래된 노래  스탠딩 에그(Standing Egg)\n",
              "\n",
              "[100 rows x 3 columns]"
            ]
          },
          "metadata": {
            "tags": []
          },
          "execution_count": 10
        }
      ]
    },
    {
      "cell_type": "code",
      "metadata": {
        "id": "djYFfIhYa4mx",
        "colab_type": "code",
        "colab": {}
      },
      "source": [
        ""
      ],
      "execution_count": null,
      "outputs": []
    }
  ]
}