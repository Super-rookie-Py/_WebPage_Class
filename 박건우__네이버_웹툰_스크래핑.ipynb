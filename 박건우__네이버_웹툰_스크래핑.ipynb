{
  "nbformat": 4,
  "nbformat_minor": 0,
  "metadata": {
    "colab": {
      "name": "박건우 - _네이버 웹툰 스크래핑.ipynb",
      "provenance": [],
      "collapsed_sections": [],
      "include_colab_link": true
    },
    "kernelspec": {
      "name": "python3",
      "display_name": "Python 3"
    }
  },
  "cells": [
    {
      "cell_type": "markdown",
      "metadata": {
        "id": "view-in-github",
        "colab_type": "text"
      },
      "source": [
        "<a href=\"https://colab.research.google.com/github/Super-rookie-Py/_WebProgramming_Class/blob/master/%EB%B0%95%EA%B1%B4%EC%9A%B0__%EB%84%A4%EC%9D%B4%EB%B2%84_%EC%9B%B9%ED%88%B0_%EC%8A%A4%ED%81%AC%EB%9E%98%ED%95%91.ipynb\" target=\"_parent\"><img src=\"https://colab.research.google.com/assets/colab-badge.svg\" alt=\"Open In Colab\"/></a>"
      ]
    },
    {
      "cell_type": "markdown",
      "metadata": {
        "id": "jsPudA_xcrqE",
        "colab_type": "text"
      },
      "source": [
        "# 네이버 웹툰 스크래핑\n",
        "- keonwoo Park 2020/09/15"
      ]
    },
    {
      "cell_type": "markdown",
      "metadata": {
        "id": "kUnbR1MkG496",
        "colab_type": "text"
      },
      "source": [
        "## Selenium 및 웹 드라이버 설치"
      ]
    },
    {
      "cell_type": "code",
      "metadata": {
        "id": "vYaU2RnNvj8Z",
        "colab_type": "code",
        "colab": {
          "base_uri": "https://localhost:8080/",
          "height": 1000
        },
        "outputId": "8c85da8b-1f74-4164-9463-e22c9735bc23"
      },
      "source": [
        "!pip install Selenium\n",
        "!apt-get update\n",
        "!apt install chromium-chromedriver\n",
        "!cp /usr/lib/chromium-browser/chromedriver / usr/bin\n",
        "\n",
        "import sys\n",
        "sys.path.insert(0, '/usr/lib/chromium-browser/chromedriver')"
      ],
      "execution_count": 1,
      "outputs": [
        {
          "output_type": "stream",
          "text": [
            "Collecting Selenium\n",
            "\u001b[?25l  Downloading https://files.pythonhosted.org/packages/80/d6/4294f0b4bce4de0abf13e17190289f9d0613b0a44e5dd6a7f5ca98459853/selenium-3.141.0-py2.py3-none-any.whl (904kB)\n",
            "\r\u001b[K     |▍                               | 10kB 17.0MB/s eta 0:00:01\r\u001b[K     |▊                               | 20kB 3.0MB/s eta 0:00:01\r\u001b[K     |█                               | 30kB 3.5MB/s eta 0:00:01\r\u001b[K     |█▌                              | 40kB 4.0MB/s eta 0:00:01\r\u001b[K     |█▉                              | 51kB 3.3MB/s eta 0:00:01\r\u001b[K     |██▏                             | 61kB 3.7MB/s eta 0:00:01\r\u001b[K     |██▌                             | 71kB 4.0MB/s eta 0:00:01\r\u001b[K     |███                             | 81kB 4.4MB/s eta 0:00:01\r\u001b[K     |███▎                            | 92kB 4.5MB/s eta 0:00:01\r\u001b[K     |███▋                            | 102kB 4.3MB/s eta 0:00:01\r\u001b[K     |████                            | 112kB 4.3MB/s eta 0:00:01\r\u001b[K     |████▍                           | 122kB 4.3MB/s eta 0:00:01\r\u001b[K     |████▊                           | 133kB 4.3MB/s eta 0:00:01\r\u001b[K     |█████                           | 143kB 4.3MB/s eta 0:00:01\r\u001b[K     |█████▍                          | 153kB 4.3MB/s eta 0:00:01\r\u001b[K     |█████▉                          | 163kB 4.3MB/s eta 0:00:01\r\u001b[K     |██████▏                         | 174kB 4.3MB/s eta 0:00:01\r\u001b[K     |██████▌                         | 184kB 4.3MB/s eta 0:00:01\r\u001b[K     |██████▉                         | 194kB 4.3MB/s eta 0:00:01\r\u001b[K     |███████▎                        | 204kB 4.3MB/s eta 0:00:01\r\u001b[K     |███████▋                        | 215kB 4.3MB/s eta 0:00:01\r\u001b[K     |████████                        | 225kB 4.3MB/s eta 0:00:01\r\u001b[K     |████████▎                       | 235kB 4.3MB/s eta 0:00:01\r\u001b[K     |████████▊                       | 245kB 4.3MB/s eta 0:00:01\r\u001b[K     |█████████                       | 256kB 4.3MB/s eta 0:00:01\r\u001b[K     |█████████▍                      | 266kB 4.3MB/s eta 0:00:01\r\u001b[K     |█████████▉                      | 276kB 4.3MB/s eta 0:00:01\r\u001b[K     |██████████▏                     | 286kB 4.3MB/s eta 0:00:01\r\u001b[K     |██████████▌                     | 296kB 4.3MB/s eta 0:00:01\r\u001b[K     |██████████▉                     | 307kB 4.3MB/s eta 0:00:01\r\u001b[K     |███████████▎                    | 317kB 4.3MB/s eta 0:00:01\r\u001b[K     |███████████▋                    | 327kB 4.3MB/s eta 0:00:01\r\u001b[K     |████████████                    | 337kB 4.3MB/s eta 0:00:01\r\u001b[K     |████████████▎                   | 348kB 4.3MB/s eta 0:00:01\r\u001b[K     |████████████▊                   | 358kB 4.3MB/s eta 0:00:01\r\u001b[K     |█████████████                   | 368kB 4.3MB/s eta 0:00:01\r\u001b[K     |█████████████▍                  | 378kB 4.3MB/s eta 0:00:01\r\u001b[K     |█████████████▊                  | 389kB 4.3MB/s eta 0:00:01\r\u001b[K     |██████████████▏                 | 399kB 4.3MB/s eta 0:00:01\r\u001b[K     |██████████████▌                 | 409kB 4.3MB/s eta 0:00:01\r\u001b[K     |██████████████▉                 | 419kB 4.3MB/s eta 0:00:01\r\u001b[K     |███████████████▏                | 430kB 4.3MB/s eta 0:00:01\r\u001b[K     |███████████████▋                | 440kB 4.3MB/s eta 0:00:01\r\u001b[K     |████████████████                | 450kB 4.3MB/s eta 0:00:01\r\u001b[K     |████████████████▎               | 460kB 4.3MB/s eta 0:00:01\r\u001b[K     |████████████████▋               | 471kB 4.3MB/s eta 0:00:01\r\u001b[K     |█████████████████               | 481kB 4.3MB/s eta 0:00:01\r\u001b[K     |█████████████████▍              | 491kB 4.3MB/s eta 0:00:01\r\u001b[K     |█████████████████▊              | 501kB 4.3MB/s eta 0:00:01\r\u001b[K     |██████████████████▏             | 512kB 4.3MB/s eta 0:00:01\r\u001b[K     |██████████████████▌             | 522kB 4.3MB/s eta 0:00:01\r\u001b[K     |██████████████████▉             | 532kB 4.3MB/s eta 0:00:01\r\u001b[K     |███████████████████▏            | 542kB 4.3MB/s eta 0:00:01\r\u001b[K     |███████████████████▋            | 552kB 4.3MB/s eta 0:00:01\r\u001b[K     |████████████████████            | 563kB 4.3MB/s eta 0:00:01\r\u001b[K     |████████████████████▎           | 573kB 4.3MB/s eta 0:00:01\r\u001b[K     |████████████████████▋           | 583kB 4.3MB/s eta 0:00:01\r\u001b[K     |█████████████████████           | 593kB 4.3MB/s eta 0:00:01\r\u001b[K     |█████████████████████▍          | 604kB 4.3MB/s eta 0:00:01\r\u001b[K     |█████████████████████▊          | 614kB 4.3MB/s eta 0:00:01\r\u001b[K     |██████████████████████          | 624kB 4.3MB/s eta 0:00:01\r\u001b[K     |██████████████████████▌         | 634kB 4.3MB/s eta 0:00:01\r\u001b[K     |██████████████████████▉         | 645kB 4.3MB/s eta 0:00:01\r\u001b[K     |███████████████████████▏        | 655kB 4.3MB/s eta 0:00:01\r\u001b[K     |███████████████████████▌        | 665kB 4.3MB/s eta 0:00:01\r\u001b[K     |████████████████████████        | 675kB 4.3MB/s eta 0:00:01\r\u001b[K     |████████████████████████▎       | 686kB 4.3MB/s eta 0:00:01\r\u001b[K     |████████████████████████▋       | 696kB 4.3MB/s eta 0:00:01\r\u001b[K     |█████████████████████████       | 706kB 4.3MB/s eta 0:00:01\r\u001b[K     |█████████████████████████▍      | 716kB 4.3MB/s eta 0:00:01\r\u001b[K     |█████████████████████████▊      | 727kB 4.3MB/s eta 0:00:01\r\u001b[K     |██████████████████████████      | 737kB 4.3MB/s eta 0:00:01\r\u001b[K     |██████████████████████████▍     | 747kB 4.3MB/s eta 0:00:01\r\u001b[K     |██████████████████████████▉     | 757kB 4.3MB/s eta 0:00:01\r\u001b[K     |███████████████████████████▏    | 768kB 4.3MB/s eta 0:00:01\r\u001b[K     |███████████████████████████▌    | 778kB 4.3MB/s eta 0:00:01\r\u001b[K     |████████████████████████████    | 788kB 4.3MB/s eta 0:00:01\r\u001b[K     |████████████████████████████▎   | 798kB 4.3MB/s eta 0:00:01\r\u001b[K     |████████████████████████████▋   | 808kB 4.3MB/s eta 0:00:01\r\u001b[K     |█████████████████████████████   | 819kB 4.3MB/s eta 0:00:01\r\u001b[K     |█████████████████████████████▍  | 829kB 4.3MB/s eta 0:00:01\r\u001b[K     |█████████████████████████████▊  | 839kB 4.3MB/s eta 0:00:01\r\u001b[K     |██████████████████████████████  | 849kB 4.3MB/s eta 0:00:01\r\u001b[K     |██████████████████████████████▍ | 860kB 4.3MB/s eta 0:00:01\r\u001b[K     |██████████████████████████████▉ | 870kB 4.3MB/s eta 0:00:01\r\u001b[K     |███████████████████████████████▏| 880kB 4.3MB/s eta 0:00:01\r\u001b[K     |███████████████████████████████▌| 890kB 4.3MB/s eta 0:00:01\r\u001b[K     |███████████████████████████████▉| 901kB 4.3MB/s eta 0:00:01\r\u001b[K     |████████████████████████████████| 911kB 4.3MB/s \n",
            "\u001b[?25hRequirement already satisfied: urllib3 in /usr/local/lib/python3.6/dist-packages (from Selenium) (1.24.3)\n",
            "Installing collected packages: Selenium\n",
            "Successfully installed Selenium-3.141.0\n",
            "Ign:1 https://developer.download.nvidia.com/compute/cuda/repos/ubuntu1804/x86_64  InRelease\n",
            "Ign:2 https://developer.download.nvidia.com/compute/machine-learning/repos/ubuntu1804/x86_64  InRelease\n",
            "Hit:3 https://developer.download.nvidia.com/compute/cuda/repos/ubuntu1804/x86_64  Release\n",
            "Get:4 http://security.ubuntu.com/ubuntu bionic-security InRelease [88.7 kB]\n",
            "Get:5 https://cloud.r-project.org/bin/linux/ubuntu bionic-cran35/ InRelease [3,626 B]\n",
            "Hit:6 https://developer.download.nvidia.com/compute/machine-learning/repos/ubuntu1804/x86_64  Release\n",
            "Hit:7 http://archive.ubuntu.com/ubuntu bionic InRelease\n",
            "Hit:8 http://ppa.launchpad.net/graphics-drivers/ppa/ubuntu bionic InRelease\n",
            "Get:9 http://archive.ubuntu.com/ubuntu bionic-updates InRelease [88.7 kB]\n",
            "Get:11 http://ppa.launchpad.net/marutter/c2d4u3.5/ubuntu bionic InRelease [15.4 kB]\n",
            "Get:12 https://cloud.r-project.org/bin/linux/ubuntu bionic-cran35/ Packages [96.1 kB]\n",
            "Get:14 http://archive.ubuntu.com/ubuntu bionic-backports InRelease [74.6 kB]\n",
            "Get:15 http://security.ubuntu.com/ubuntu bionic-security/universe amd64 Packages [900 kB]\n",
            "Get:16 http://ppa.launchpad.net/marutter/c2d4u3.5/ubuntu bionic/main Sources [1,867 kB]\n",
            "Get:17 http://archive.ubuntu.com/ubuntu bionic-updates/main amd64 Packages [1,384 kB]\n",
            "Get:18 http://archive.ubuntu.com/ubuntu bionic-updates/universe amd64 Packages [1,428 kB]\n",
            "Get:19 http://ppa.launchpad.net/marutter/c2d4u3.5/ubuntu bionic/main amd64 Packages [901 kB]\n",
            "Fetched 6,849 kB in 5s (1,454 kB/s)\n",
            "Reading package lists... Done\n",
            "Reading package lists... Done\n",
            "Building dependency tree       \n",
            "Reading state information... Done\n",
            "The following additional packages will be installed:\n",
            "  chromium-browser chromium-browser-l10n chromium-codecs-ffmpeg-extra\n",
            "Suggested packages:\n",
            "  webaccounts-chromium-extension unity-chromium-extension adobe-flashplugin\n",
            "The following NEW packages will be installed:\n",
            "  chromium-browser chromium-browser-l10n chromium-chromedriver\n",
            "  chromium-codecs-ffmpeg-extra\n",
            "0 upgraded, 4 newly installed, 0 to remove and 12 not upgraded.\n",
            "Need to get 79.2 MB of archives.\n",
            "After this operation, 268 MB of additional disk space will be used.\n",
            "Get:1 http://archive.ubuntu.com/ubuntu bionic-updates/universe amd64 chromium-codecs-ffmpeg-extra amd64 85.0.4183.83-0ubuntu0.18.04.2 [1,118 kB]\n",
            "Get:2 http://archive.ubuntu.com/ubuntu bionic-updates/universe amd64 chromium-browser amd64 85.0.4183.83-0ubuntu0.18.04.2 [70.3 MB]\n",
            "Get:3 http://archive.ubuntu.com/ubuntu bionic-updates/universe amd64 chromium-browser-l10n all 85.0.4183.83-0ubuntu0.18.04.2 [3,431 kB]\n",
            "Get:4 http://archive.ubuntu.com/ubuntu bionic-updates/universe amd64 chromium-chromedriver amd64 85.0.4183.83-0ubuntu0.18.04.2 [4,412 kB]\n",
            "Fetched 79.2 MB in 5s (15.6 MB/s)\n",
            "Selecting previously unselected package chromium-codecs-ffmpeg-extra.\n",
            "(Reading database ... 144599 files and directories currently installed.)\n",
            "Preparing to unpack .../chromium-codecs-ffmpeg-extra_85.0.4183.83-0ubuntu0.18.04.2_amd64.deb ...\n",
            "Unpacking chromium-codecs-ffmpeg-extra (85.0.4183.83-0ubuntu0.18.04.2) ...\n",
            "Selecting previously unselected package chromium-browser.\n",
            "Preparing to unpack .../chromium-browser_85.0.4183.83-0ubuntu0.18.04.2_amd64.deb ...\n",
            "Unpacking chromium-browser (85.0.4183.83-0ubuntu0.18.04.2) ...\n",
            "Selecting previously unselected package chromium-browser-l10n.\n",
            "Preparing to unpack .../chromium-browser-l10n_85.0.4183.83-0ubuntu0.18.04.2_all.deb ...\n",
            "Unpacking chromium-browser-l10n (85.0.4183.83-0ubuntu0.18.04.2) ...\n",
            "Selecting previously unselected package chromium-chromedriver.\n",
            "Preparing to unpack .../chromium-chromedriver_85.0.4183.83-0ubuntu0.18.04.2_amd64.deb ...\n",
            "Unpacking chromium-chromedriver (85.0.4183.83-0ubuntu0.18.04.2) ...\n",
            "Setting up chromium-codecs-ffmpeg-extra (85.0.4183.83-0ubuntu0.18.04.2) ...\n",
            "Setting up chromium-browser (85.0.4183.83-0ubuntu0.18.04.2) ...\n",
            "update-alternatives: using /usr/bin/chromium-browser to provide /usr/bin/x-www-browser (x-www-browser) in auto mode\n",
            "update-alternatives: using /usr/bin/chromium-browser to provide /usr/bin/gnome-www-browser (gnome-www-browser) in auto mode\n",
            "Setting up chromium-chromedriver (85.0.4183.83-0ubuntu0.18.04.2) ...\n",
            "Setting up chromium-browser-l10n (85.0.4183.83-0ubuntu0.18.04.2) ...\n",
            "Processing triggers for hicolor-icon-theme (0.17-2) ...\n",
            "Processing triggers for mime-support (3.60ubuntu1) ...\n",
            "Processing triggers for man-db (2.8.3-2ubuntu0.1) ...\n",
            "cp: target 'usr/bin' is not a directory\n"
          ],
          "name": "stdout"
        }
      ]
    },
    {
      "cell_type": "code",
      "metadata": {
        "id": "ZDS7ZJdThi3l",
        "colab_type": "code",
        "colab": {}
      },
      "source": [
        "from selenium import webdriver\n",
        "chrome_options = webdriver.ChromeOptions()\n",
        "chrome_options.add_argument('--headless')\n",
        "chrome_options.add_argument('--no-sandbox')\n",
        "chrome_options.add_argument('--disable-dev-shm-usage')"
      ],
      "execution_count": 2,
      "outputs": []
    },
    {
      "cell_type": "markdown",
      "metadata": {
        "id": "uahm90hHyRGI",
        "colab_type": "text"
      },
      "source": [
        "## 네이버 웹툰 페이지 로드"
      ]
    },
    {
      "cell_type": "code",
      "metadata": {
        "id": "zPQlAYEyM-cp",
        "colab_type": "code",
        "colab": {}
      },
      "source": [
        "wd = webdriver.Chrome('chromedriver', options=chrome_options)\n",
        "wd.get(\"https://comic.naver.com/index.nhn\")"
      ],
      "execution_count": 4,
      "outputs": []
    },
    {
      "cell_type": "code",
      "metadata": {
        "id": "M1y0OdcsiRb9",
        "colab_type": "code",
        "colab": {
          "base_uri": "https://localhost:8080/",
          "height": 390
        },
        "outputId": "8a3923c2-2fa5-4d6a-c052-ddd666573a4b"
      },
      "source": [
        "for title in wd.find_elements_by_class_name('title'):\n",
        "  print(title.text)"
      ],
      "execution_count": 5,
      "outputs": [
        {
          "output_type": "stream",
          "text": [
            "악마와 계약연애\n",
            "후기\n",
            "완벽한 가족\n",
            "사신소년\n",
            "그놈은 흑염룡\n",
            "정년이\n",
            "봄이와\n",
            "일상견문록\n",
            "중견기업\n",
            "여우자매\n",
            "158동 진상부부\n",
            "오늘의 햄스터\n",
            "이리(iri)\n",
            "저승파견고용직\n",
            "신이 될 거야!\n",
            "꽃이 지더라도\n",
            "이슈 [디지털]\n",
            "플랜터 플래닛\n",
            "바디셰이드\n",
            "잠화랑\n",
            "열혈강호\n"
          ],
          "name": "stdout"
        }
      ]
    },
    {
      "cell_type": "markdown",
      "metadata": {
        "id": "NsD4UvgNPOXe",
        "colab_type": "text"
      },
      "source": [
        "## 장르별 추천 웹툰 긁어오기"
      ]
    },
    {
      "cell_type": "code",
      "metadata": {
        "id": "Qh2oZc-SC5s4",
        "colab_type": "code",
        "colab": {
          "base_uri": "https://localhost:8080/",
          "height": 1000
        },
        "outputId": "f59cc0a1-7845-41af-9d54-dd20e9400c82"
      },
      "source": [
        "import time\n",
        "\n",
        "genre_ul = wd.find_element_by_class_name('tab_gr')\n",
        "genre_list = genre_ul.find_elements_by_tag_name('a')\n",
        "\n",
        "for genre in genre_list:\n",
        "  genre.click()\n",
        "  time.sleep(1)\n",
        "  print(\"[\", genre.text, \"]\")\n",
        "\n",
        "  genre_rec_list = wd.find_elements_by_class_name('genreRecomInfo2')\n",
        "  for genre_rec in genre_rec_list:\n",
        "    title_class = genre_rec.find_element_by_class_name('title')\n",
        "    title = title_class.find_element_by_tag_name('a').text\n",
        "    user = genre_rec.find_element_by_class_name('user').text\n",
        "    print(\"\\t\", title, \"-\", user)"
      ],
      "execution_count": 11,
      "outputs": [
        {
          "output_type": "stream",
          "text": [
            "[ 에피소드 ]\n",
            "\t 패밀리 사이즈 - 남지은 / 김인호\n",
            "\t ㅋㄷㅋㄷ만화 - 곽백수\n",
            "\t 오늘의 순정망화 - 손하기\n",
            "\t 삼국지톡 - 무적핑크 / 이리\n",
            "\t 윌유메리미 - 마인드C\n",
            "\t 자판귀 - 윤정민\n",
            "[ 옴니버스 ]\n",
            "\t 2020 호랑 공포 단편선 - 호랑\n",
            "\t 히어로메이커 - 빤쓰\n",
            "\t 중독연구소 - 김택기\n",
            "\t 야자괴담 - 이도광\n",
            "\t 결혼생활 그림일기 - 은꼼지\n",
            "\t 내일 - 라마\n",
            "[ 스토리 ]\n",
            "\t 악마와 계약연애 - 장진 / 움비\n",
            "\t 후기 - 조석\n",
            "\t 완벽한 가족 - 냥빠 / 주은\n",
            "\t 사신소년 - 류\n",
            "\t 그놈은 흑염룡 - 혜진양\n",
            "\t 정년이 - 서이레 / 나몬\n",
            "[ 일상 ]\n",
            "\t 패밀리 사이즈 - 남지은 / 김인호\n",
            "\t ㅋㄷㅋㄷ만화 - 곽백수\n",
            "\t 윌유메리미 - 마인드C\n",
            "\t 결혼생활 그림일기 - 은꼼지\n",
            "\t 독립일기 - 자까\n",
            "\t 닥터앤닥터 육아일기 - 닥터베르\n",
            "[ 개그 ]\n",
            "\t 오늘의 순정망화 - 손하기\n",
            "\t 필살VS로맨스 - 구르\n",
            "\t 조선홍보대행사 조대박 - 김양수\n",
            "\t 사장님을 잠금해제 - 박성현\n",
            "\t 모죠의 일지 - 모죠\n",
            "\t 후덜덜덜 남극전자 - 김민혁\n",
            "[ 판타지 ]\n",
            "\t 제로게임 - 즐바센\n",
            "\t 신의 언어 - 장래혁\n",
            "\t 도를 아십니까 - 이건 / 요엘\n",
            "\t 하루만 네가 되고 싶어 - 삼\n",
            "\t 오파츠 - 성진 / 부겸\n",
            "\t 언메이크 - 박화랑\n",
            "[ 액션 ]\n",
            "\t 사신소년 - 류\n",
            "\t 저세상 클라스! - 꾀돌이\n",
            "\t 신도림 - 오세형\n",
            "\t 헬58 - 장성준\n",
            "\t 한림체육관 - 혜성 / 이석재\n",
            "\t 싸이코 리벤지 - 기송 / 넴가\n",
            "[ 드라마 ]\n",
            "\t 정년이 - 서이레 / 나몬\n",
            "\t 은주의 방 2~3부 - 노란구미\n",
            "\t 체크포인트 - 송가 / 은소\n",
            "\t 그날 죽은 나는 - 이언\n",
            "\t 올가미 - 해무리\n",
            "\t 땅 보고 걷는 아이 - 다온\n",
            "[ 순정 ]\n",
            "\t 악마와 계약연애 - 장진 / 움비\n",
            "\t 그놈은 흑염룡 - 혜진양\n",
            "\t 여신강림 - 야옹이\n",
            "\t 바른연애 길잡이 - 남수\n",
            "\t 장단에 맞춰줘! - 햇님\n",
            "\t 빛빛빛 - 수진\n",
            "[ 감성 ]\n",
            "\t 숲속의 담 - 다홍\n",
            "\t 드로잉 레시피 - 꼬모소이\n",
            "\t 나의 첫번째 새벽 - 신매\n",
            "\t 우리는 요정! - 억수씨\n",
            "\t 안녕, 나는 너를 좋아해 - 하토\n",
            "\t 마음의 숙제 - 고아라\n",
            "[ 스릴러 ]\n",
            "\t 후기 - 조석\n",
            "\t 자판귀 - 윤정민\n",
            "\t 완벽한 가족 - 냥빠 / 주은\n",
            "\t 안식의 밤 - 연제원\n",
            "\t 관계의 종말 - 김용키\n",
            "\t 원주민 공포만화 - 원주민\n",
            "[ 시대극 ]\n",
            "\t 삼국지톡 - 무적핑크 / 이리\n",
            "\t 장씨세가 호위무사 - 조형근 / 김인호\n",
            "\t 몽홀 - 장태산\n",
            "\t 칼부림 - 고일권\n",
            "\t 조선방랑야사 - 가현\n",
            "\t 귀인 - 정연식 / 황진영\n",
            "[ 스포츠 ]\n",
            "\t 윈드브레이커 - 조용석\n",
            "\t 가비지타임 - 2사장\n",
            "\t 탑코너 - 윤성 / 라군\n",
            "\t 미드나잇 체이서 - 석재윤\n",
            "\t 불릿 6미리 - 김도근\n",
            "\t 격기3반 - 이학\n"
          ],
          "name": "stdout"
        }
      ]
    }
  ]
}