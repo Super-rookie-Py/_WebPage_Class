{
  "nbformat": 4,
  "nbformat_minor": 0,
  "metadata": {
    "colab": {
      "name": "박건우 - _네이버 영화 리뷰 스크래핑.ipynb",
      "provenance": [],
      "collapsed_sections": [],
      "include_colab_link": true
    },
    "kernelspec": {
      "name": "python3",
      "display_name": "Python 3"
    }
  },
  "cells": [
    {
      "cell_type": "markdown",
      "metadata": {
        "id": "view-in-github",
        "colab_type": "text"
      },
      "source": [
        "<a href=\"https://colab.research.google.com/github/Super-rookie-Py/_WebProgramming_Class/blob/master/%EB%B0%95%EA%B1%B4%EC%9A%B0__%EB%84%A4%EC%9D%B4%EB%B2%84_%EC%98%81%ED%99%94_%EB%A6%AC%EB%B7%B0_%EC%8A%A4%ED%81%AC%EB%9E%98%ED%95%91.ipynb\" target=\"_parent\"><img src=\"https://colab.research.google.com/assets/colab-badge.svg\" alt=\"Open In Colab\"/></a>"
      ]
    },
    {
      "cell_type": "markdown",
      "metadata": {
        "id": "brnhfmqsTfbo",
        "colab_type": "text"
      },
      "source": [
        "# BeautyfulSoup 네이버 영화 리뷰 스크래핑\n",
        "- keonwoo Park 2020/09/14"
      ]
    },
    {
      "cell_type": "markdown",
      "metadata": {
        "id": "810KbByIDvZI",
        "colab_type": "text"
      },
      "source": [
        "## 네이버 영화 리뷰 스크래핑\n",
        "\n",
        "* 네이버 영화: https://movie.naver.com/movie/point/af/list.nhn"
      ]
    },
    {
      "cell_type": "code",
      "metadata": {
        "id": "V9h_RKcydST5",
        "colab_type": "code",
        "colab": {}
      },
      "source": [
        "from bs4 import BeautifulSoup\n",
        "import urllib.request\n",
        "from urllib.parse import quote\n",
        "import pandas as pd\n",
        "\n",
        "def get_movie_reviews(mcode, page_num=10):\n",
        "\n",
        "  movie_review_df = pd.DataFrame(columns = (\"Title\", \"Score\", 'Review'))\n",
        "  idx = 0\n",
        "  url =  \"https://movie.naver.com/movie/point/af/list.nhn?st=mcode&sword=\"+ str(mcode)+\"&target=after\"\n",
        "\n",
        "  for _ in range(0, page_num):\n",
        "    movie_page = urllib.request.urlopen(url).read()\n",
        "    movie_page_soup = BeautifulSoup(movie_page, \"html.parser\")\n",
        "\n",
        "    review_list = movie_page_soup.find_all('td', {'class':'title'})\n",
        "    for review in review_list:\n",
        "      title = review.find('a', {'class': 'movie color_b'}).get_text()\n",
        "      score = review.find('em').get_text()\n",
        "      review_text = review.find('a', {'class': 'report'}).get('href').split(',')[2]\n",
        "      movie_review_df.loc[idx] = [title, score, review_text]\n",
        "      idx += 1\n",
        "      print(\"#\", end=\"\")\n",
        "    try:\n",
        "      url = \"https://movie.naver.com/\" + movie_page_soup.find('a', {'class': 'pg_next'}).get('href')\n",
        "    except:\n",
        "      break\n",
        "\n",
        "  return movie_review_df"
      ],
      "execution_count": 13,
      "outputs": []
    },
    {
      "cell_type": "code",
      "metadata": {
        "id": "hn1fIqrwhyjs",
        "colab_type": "code",
        "colab": {
          "base_uri": "https://localhost:8080/",
          "height": 611
        },
        "outputId": "5502fb0b-ee93-43a8-e0da-9ee9aae84311"
      },
      "source": [
        "movie_review_df = get_movie_reviews(18847,10)\n",
        "movie_review_df"
      ],
      "execution_count": 15,
      "outputs": [
        {
          "output_type": "stream",
          "text": [
            "####################################################################################################"
          ],
          "name": "stdout"
        },
        {
          "output_type": "execute_result",
          "data": {
            "text/html": [
              "<div>\n",
              "<style scoped>\n",
              "    .dataframe tbody tr th:only-of-type {\n",
              "        vertical-align: middle;\n",
              "    }\n",
              "\n",
              "    .dataframe tbody tr th {\n",
              "        vertical-align: top;\n",
              "    }\n",
              "\n",
              "    .dataframe thead th {\n",
              "        text-align: right;\n",
              "    }\n",
              "</style>\n",
              "<table border=\"1\" class=\"dataframe\">\n",
              "  <thead>\n",
              "    <tr style=\"text-align: right;\">\n",
              "      <th></th>\n",
              "      <th>Title</th>\n",
              "      <th>Score</th>\n",
              "      <th>Review</th>\n",
              "    </tr>\n",
              "  </thead>\n",
              "  <tbody>\n",
              "    <tr>\n",
              "      <th>0</th>\n",
              "      <td>타이타닉</td>\n",
              "      <td>10</td>\n",
              "      <td>'내가 과연 처음 보는 사람을 위해 대신 죽어줄 수 있을까?'</td>\n",
              "    </tr>\n",
              "    <tr>\n",
              "      <th>1</th>\n",
              "      <td>타이타닉</td>\n",
              "      <td>10</td>\n",
              "      <td>'너무재밌어요 최고 죽기전 꼭봐야할영화'</td>\n",
              "    </tr>\n",
              "    <tr>\n",
              "      <th>2</th>\n",
              "      <td>타이타닉</td>\n",
              "      <td>10</td>\n",
              "      <td>'타이타닉이라는 영화를 처음 보게 되었는데</td>\n",
              "    </tr>\n",
              "    <tr>\n",
              "      <th>3</th>\n",
              "      <td>타이타닉</td>\n",
              "      <td>10</td>\n",
              "      <td>'세기의 영화지 멀따져 안봤으면 얼릉봐'</td>\n",
              "    </tr>\n",
              "    <tr>\n",
              "      <th>4</th>\n",
              "      <td>타이타닉</td>\n",
              "      <td>10</td>\n",
              "      <td>'다들 하는 말이 하나같이 다 맞음 믿고 보세요 볼땐 휴지 필수니깐 꼭~ 챙기셈 ...</td>\n",
              "    </tr>\n",
              "    <tr>\n",
              "      <th>...</th>\n",
              "      <td>...</td>\n",
              "      <td>...</td>\n",
              "      <td>...</td>\n",
              "    </tr>\n",
              "    <tr>\n",
              "      <th>95</th>\n",
              "      <td>타이타닉</td>\n",
              "      <td>9</td>\n",
              "      <td>'하앍 케이트 윈슬릿 너무 고혹적이다 디카프리오는 두말할나위도 .. 지구가 멸망할...</td>\n",
              "    </tr>\n",
              "    <tr>\n",
              "      <th>96</th>\n",
              "      <td>타이타닉</td>\n",
              "      <td>10</td>\n",
              "      <td>'인생 최고의 영화다이런영화를 29년만에 봤다니진짜 인생 헛살았네'</td>\n",
              "    </tr>\n",
              "    <tr>\n",
              "      <th>97</th>\n",
              "      <td>타이타닉</td>\n",
              "      <td>10</td>\n",
              "      <td>'정말 펑펑운 영화별점 다섯개가 뭐야..만점짜리다..정말 인생영화 등극.'</td>\n",
              "    </tr>\n",
              "    <tr>\n",
              "      <th>98</th>\n",
              "      <td>타이타닉</td>\n",
              "      <td>10</td>\n",
              "      <td>''</td>\n",
              "    </tr>\n",
              "    <tr>\n",
              "      <th>99</th>\n",
              "      <td>타이타닉</td>\n",
              "      <td>10</td>\n",
              "      <td>'꼭 보세요. 역대급 영화'</td>\n",
              "    </tr>\n",
              "  </tbody>\n",
              "</table>\n",
              "<p>100 rows × 3 columns</p>\n",
              "</div>"
            ],
            "text/plain": [
              "   Title Score                                             Review\n",
              "0   타이타닉    10                 '내가 과연 처음 보는 사람을 위해 대신 죽어줄 수 있을까?'\n",
              "1   타이타닉    10                             '너무재밌어요 최고 죽기전 꼭봐야할영화'\n",
              "2   타이타닉    10                            '타이타닉이라는 영화를 처음 보게 되었는데\n",
              "3   타이타닉    10                             '세기의 영화지 멀따져 안봤으면 얼릉봐'\n",
              "4   타이타닉    10   '다들 하는 말이 하나같이 다 맞음 믿고 보세요 볼땐 휴지 필수니깐 꼭~ 챙기셈 ...\n",
              "..   ...   ...                                                ...\n",
              "95  타이타닉     9   '하앍 케이트 윈슬릿 너무 고혹적이다 디카프리오는 두말할나위도 .. 지구가 멸망할...\n",
              "96  타이타닉    10              '인생 최고의 영화다이런영화를 29년만에 봤다니진짜 인생 헛살았네'\n",
              "97  타이타닉    10          '정말 펑펑운 영화별점 다섯개가 뭐야..만점짜리다..정말 인생영화 등극.'\n",
              "98  타이타닉    10                                                 ''\n",
              "99  타이타닉    10                                    '꼭 보세요. 역대급 영화'\n",
              "\n",
              "[100 rows x 3 columns]"
            ]
          },
          "metadata": {
            "tags": []
          },
          "execution_count": 15
        }
      ]
    },
    {
      "cell_type": "markdown",
      "metadata": {
        "id": "cePQNVwEGfUA",
        "colab_type": "text"
      },
      "source": [
        "## 현재상영작 영화 리뷰 스크래핑"
      ]
    },
    {
      "cell_type": "code",
      "metadata": {
        "id": "svy-D7FPjUoy",
        "colab_type": "code",
        "colab": {
          "base_uri": "https://localhost:8080/",
          "height": 561
        },
        "outputId": "3c16dff9-a2ed-4dcd-9658-d5f8f6037b12"
      },
      "source": [
        "url = \"https://movie.naver.com/movie/point/af/list.nhn\"\n",
        "naver_movie = urllib.request.urlopen(url).read()\n",
        "soup = BeautifulSoup(naver_movie, 'html.parser')\n",
        "select = soup.find('select', { 'id': 'current_movie'})\n",
        "movies = select.find_all('option')\n",
        "\n",
        "movies_dict = {}\n",
        "for movie in movies[1:]:\n",
        "  movies_dict[movie.get('value')] = movie.get_text()\n",
        "\n",
        "movie_review_df = pd.DataFrame(columns = (\"Title\", \"Score\", 'Review'))\n",
        "for mcode in movies_dict:\n",
        "  df = get_movie_reviews(mcode, 1)\n",
        "  movie_review_df = pd.concat([movie_review_df, df])\n",
        "\n",
        "movie_review_df"
      ],
      "execution_count": 17,
      "outputs": [
        {
          "output_type": "stream",
          "text": [
            "###############################################################################################################################################################################################################################################################################################################################################################################################################################################################################################################################################################################################################################################################################################################################################################################################################################################################################################################################################################################################################################################################################################################################################################################################################################################################"
          ],
          "name": "stdout"
        },
        {
          "output_type": "execute_result",
          "data": {
            "text/html": [
              "<div>\n",
              "<style scoped>\n",
              "    .dataframe tbody tr th:only-of-type {\n",
              "        vertical-align: middle;\n",
              "    }\n",
              "\n",
              "    .dataframe tbody tr th {\n",
              "        vertical-align: top;\n",
              "    }\n",
              "\n",
              "    .dataframe thead th {\n",
              "        text-align: right;\n",
              "    }\n",
              "</style>\n",
              "<table border=\"1\" class=\"dataframe\">\n",
              "  <thead>\n",
              "    <tr style=\"text-align: right;\">\n",
              "      <th></th>\n",
              "      <th>Title</th>\n",
              "      <th>Score</th>\n",
              "      <th>Review</th>\n",
              "    </tr>\n",
              "  </thead>\n",
              "  <tbody>\n",
              "    <tr>\n",
              "      <th>0</th>\n",
              "      <td>뉴 뮤턴트</td>\n",
              "      <td>1</td>\n",
              "      <td>'LGBT묻었어소수민족+황인+레즈비언우욱'</td>\n",
              "    </tr>\n",
              "    <tr>\n",
              "      <th>1</th>\n",
              "      <td>뉴 뮤턴트</td>\n",
              "      <td>1</td>\n",
              "      <td>'멤버쉽포인트로 공짜로 봐서 돈은 안 아까운데 시간이 아깝다 '</td>\n",
              "    </tr>\n",
              "    <tr>\n",
              "      <th>2</th>\n",
              "      <td>뉴 뮤턴트</td>\n",
              "      <td>9</td>\n",
              "      <td>'안야 매력 터짐 스토리는 생각보다 괜찬았고 신선한 느낌~'</td>\n",
              "    </tr>\n",
              "    <tr>\n",
              "      <th>3</th>\n",
              "      <td>뉴 뮤턴트</td>\n",
              "      <td>10</td>\n",
              "      <td>'스토리도 신선했고 연기자들의 연기 또한 좋았습니다. 그렇게 기대하지 않았는데 요...</td>\n",
              "    </tr>\n",
              "    <tr>\n",
              "      <th>4</th>\n",
              "      <td>뉴 뮤턴트</td>\n",
              "      <td>10</td>\n",
              "      <td>'평이 안좋아서 기대없이 봤는데  다크 하이틴 버전의 엑스맨 새로운 느낌으로 재밌...</td>\n",
              "    </tr>\n",
              "    <tr>\n",
              "      <th>...</th>\n",
              "      <td>...</td>\n",
              "      <td>...</td>\n",
              "      <td>...</td>\n",
              "    </tr>\n",
              "    <tr>\n",
              "      <th>5</th>\n",
              "      <td>파리 텍사스</td>\n",
              "      <td>8</td>\n",
              "      <td>'이미지가 스토리를 말해주는 영화'</td>\n",
              "    </tr>\n",
              "    <tr>\n",
              "      <th>6</th>\n",
              "      <td>파리 텍사스</td>\n",
              "      <td>8</td>\n",
              "      <td>'엄마찾아 삼만리. 로드무비라고 할 수도 있지만 모두에게 잔혹할 수도 있는 상황....</td>\n",
              "    </tr>\n",
              "    <tr>\n",
              "      <th>7</th>\n",
              "      <td>파리 텍사스</td>\n",
              "      <td>8</td>\n",
              "      <td>'보고 이별과 참회에 대해 많은생각이 들었다'</td>\n",
              "    </tr>\n",
              "    <tr>\n",
              "      <th>8</th>\n",
              "      <td>파리 텍사스</td>\n",
              "      <td>9</td>\n",
              "      <td>'외로운 사람들</td>\n",
              "    </tr>\n",
              "    <tr>\n",
              "      <th>9</th>\n",
              "      <td>파리 텍사스</td>\n",
              "      <td>10</td>\n",
              "      <td>''</td>\n",
              "    </tr>\n",
              "  </tbody>\n",
              "</table>\n",
              "<p>1215 rows × 3 columns</p>\n",
              "</div>"
            ],
            "text/plain": [
              "     Title Score                                             Review\n",
              "0    뉴 뮤턴트     1                            'LGBT묻었어소수민족+황인+레즈비언우욱'\n",
              "1    뉴 뮤턴트     1                '멤버쉽포인트로 공짜로 봐서 돈은 안 아까운데 시간이 아깝다 '\n",
              "2    뉴 뮤턴트     9                  '안야 매력 터짐 스토리는 생각보다 괜찬았고 신선한 느낌~'\n",
              "3    뉴 뮤턴트    10   '스토리도 신선했고 연기자들의 연기 또한 좋았습니다. 그렇게 기대하지 않았는데 요...\n",
              "4    뉴 뮤턴트    10   '평이 안좋아서 기대없이 봤는데  다크 하이틴 버전의 엑스맨 새로운 느낌으로 재밌...\n",
              "..     ...   ...                                                ...\n",
              "5   파리 텍사스     8                                '이미지가 스토리를 말해주는 영화'\n",
              "6   파리 텍사스     8   '엄마찾아 삼만리. 로드무비라고 할 수도 있지만 모두에게 잔혹할 수도 있는 상황....\n",
              "7   파리 텍사스     8                          '보고 이별과 참회에 대해 많은생각이 들었다'\n",
              "8   파리 텍사스     9                                           '외로운 사람들\n",
              "9   파리 텍사스    10                                                 ''\n",
              "\n",
              "[1215 rows x 3 columns]"
            ]
          },
          "metadata": {
            "tags": []
          },
          "execution_count": 17
        }
      ]
    },
    {
      "cell_type": "code",
      "metadata": {
        "id": "x3jq0E3eFzte",
        "colab_type": "code",
        "colab": {}
      },
      "source": [
        ""
      ],
      "execution_count": null,
      "outputs": []
    }
  ]
}