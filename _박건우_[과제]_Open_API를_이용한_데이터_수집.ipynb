{
  "nbformat": 4,
  "nbformat_minor": 0,
  "metadata": {
    "colab": {
      "name": "_박건우 [과제] Open API를 이용한 데이터 수집.ipynb",
      "provenance": [],
      "collapsed_sections": [],
      "authorship_tag": "ABX9TyOS5X4EqhwilB1Wy9pQujge",
      "include_colab_link": true
    },
    "kernelspec": {
      "name": "python3",
      "display_name": "Python 3"
    }
  },
  "cells": [
    {
      "cell_type": "markdown",
      "metadata": {
        "id": "view-in-github",
        "colab_type": "text"
      },
      "source": [
        "<a href=\"https://colab.research.google.com/github/Super-rookie-Py/_WebProgramming_Class/blob/master/_%EB%B0%95%EA%B1%B4%EC%9A%B0_%5B%EA%B3%BC%EC%A0%9C%5D_Open_API%EB%A5%BC_%EC%9D%B4%EC%9A%A9%ED%95%9C_%EB%8D%B0%EC%9D%B4%ED%84%B0_%EC%88%98%EC%A7%91.ipynb\" target=\"_parent\"><img src=\"https://colab.research.google.com/assets/colab-badge.svg\" alt=\"Open In Colab\"/></a>"
      ]
    },
    {
      "cell_type": "markdown",
      "metadata": {
        "id": "DPiZHXxutxqN",
        "colab_type": "text"
      },
      "source": [
        "# 공공데이터 포탈\n",
        "- keonwoo Park 2020/09/11\n",
        "\n",
        "## 보건복지부_코로나19 감염_현황\n",
        "https://data.go.kr/tcs/dss/selectApiDataDetailView.do?publicDataPk=15043376"
      ]
    },
    {
      "cell_type": "code",
      "metadata": {
        "id": "hIxz2RM_t93G",
        "colab_type": "code",
        "colab": {
          "base_uri": "https://localhost:8080/",
          "height": 253
        },
        "outputId": "cae53cba-9aca-489f-f23c-7f52ae5bfc4f"
      },
      "source": [
        "from urllib.request import Request, urlopen\n",
        "from urllib.parse import urlencode, quote_plus\n",
        "from xml.etree import ElementTree\n",
        "import pandas as pd\n",
        "\n",
        "skey = '1ljS3n%2Br%2FxPMhAcc18cTB1ifzfGniN%2B4ZZCcJlY9t2p%2Fv9wgJGAP1I7Hg1Ys7K628KsHYnFCTF7wT9sFe%2FhI9A%3D%3D'\n",
        "\n",
        "url = 'http://openapi.data.go.kr/openapi/service/rest/Covid19/getCovid19InfStateJson'\n",
        "params = '?' + 'ServiceKey=' + skey + '&' +urlencode({ quote_plus('pageNo') : '1',\n",
        "                           quote_plus('numOfRows') : '10', quote_plus('startCreateDt') : '20200302',\n",
        "                           quote_plus('endCreateDt') : '20200331'})\n",
        "\n",
        "print(url+params)\n",
        "request = Request(url + params)\n",
        "request.get_method = lambda: 'GET'\n",
        "response_body = urlopen(request).read()\n",
        "print(response_body)\n",
        "\n",
        "root = ElementTree.fromstring(response_body)\n",
        "\n",
        "df = pd.DataFrame()\n",
        "\n",
        "for item in root.iter('item'):\n",
        "  item_dict = {}\n",
        "  item_dict['accDefRate'] = item.find('accDefRate').text\n",
        "  item_dict['accExamCnt'] = item.find('accExamCnt').text\n",
        "  item_dict['accExamCompCnt'] = item.find('accExamCompCnt').text\n",
        "  item_dict['careCnt'] = item.find('careCnt').text\n",
        "  item_dict['clearCnt'] = item.find('clearCnt').text\n",
        "  item_dict['createDt'] = item.find('createDt').text\n",
        "  item_dict['deathCnt'] = item.find('deathCnt').text\n",
        "  item_dict['decideCnt'] = item.find('decideCnt').text\n",
        "  item_dict['examCnt'] = item.find('examCnt').text\n",
        "  item_dict['resutlNegCnt'] = item.find('resutlNegCnt').text\n",
        "  item_dict['seq'] = item.find('seq').text\n",
        "  item_dict['stateDt'] = item.find('stateDt').text\n",
        "  item_dict['stateTime'] = item.find('stateTime').text\n",
        "  df = df.append(item_dict, ignore_index = True)\n",
        "df.head()"
      ],
      "execution_count": 84,
      "outputs": [
        {
          "output_type": "stream",
          "text": [
            "http://openapi.data.go.kr/openapi/service/rest/Covid19/getCovid19InfStateJson?ServiceKey=1ljS3n%2Br%2FxPMhAcc18cTB1ifzfGniN%2B4ZZCcJlY9t2p%2Fv9wgJGAP1I7Hg1Ys7K628KsHYnFCTF7wT9sFe%2FhI9A%3D%3D&pageNo=1&numOfRows=10&startCreateDt=20200302&endCreateDt=20200331\n",
            "b'<?xml version=\"1.0\" encoding=\"UTF-8\" standalone=\"yes\"?><response><header><resultCode>00</resultCode><resultMsg>NORMAL SERVICE.</resultMsg></header><body><items><item><accDefRate>2.4858257635</accDefRate><accExamCnt>410564</accExamCnt><accExamCompCnt>393672</accExamCompCnt><careCnt>4216</careCnt><clearCnt>5408</clearCnt><createDt>2020-03-31 11:00:44.44</createDt><deathCnt>162</deathCnt><decideCnt>9786</decideCnt><examCnt>16892</examCnt><resutlNegCnt>383886</resutlNegCnt><seq>91</seq><stateDt>20200331</stateDt><stateTime>00:00</stateTime><updateDt>2020-03-31 11:43:15.15</updateDt></item><item><accDefRate>2.5312906936</accDefRate><accExamCnt>395194</accExamCnt><accExamCompCnt>381663</accExamCompCnt><careCnt>4275</careCnt><clearCnt>5228</clearCnt><createDt>2020-03-30 10:32:34.34</createDt><deathCnt>158</deathCnt><decideCnt>9661</decideCnt><examCnt>13531</examCnt><resutlNegCnt>372002</resutlNegCnt><seq>90</seq><stateDt>20200330</stateDt><stateTime>00:00</stateTime><updateDt></updateDt></item><item><accDefRate>2.5277423881</accDefRate><accExamCnt>394141</accExamCnt><accExamCompCnt>379113</accExamCompCnt><careCnt>4398</careCnt><clearCnt>5033</clearCnt><createDt>2020-03-29 10:10:20.20</createDt><deathCnt>152</deathCnt><decideCnt>9583</decideCnt><examCnt>15028</examCnt><resutlNegCnt>369530</resutlNegCnt><seq>89</seq><stateDt>20200329</stateDt><stateTime>00:00</stateTime><updateDt></updateDt></item><item><accDefRate>2.5522335409</accDefRate><accExamCnt>387925</accExamCnt><accExamCompCnt>371361</accExamCompCnt><careCnt>4523</careCnt><clearCnt>4811</clearCnt><createDt>2020-03-28 10:30:06.06</createDt><deathCnt>144</deathCnt><decideCnt>9478</decideCnt><examCnt>16564</examCnt><resutlNegCnt>361883</resutlNegCnt><seq>88</seq><stateDt>20200328</stateDt><stateTime>00:00</stateTime><updateDt></updateDt></item><item><accDefRate>2.5797391511</accDefRate><accExamCnt>376961</accExamCnt><accExamCompCnt>361742</accExamCompCnt><careCnt>4665</careCnt><clearCnt>4528</clearCnt><createDt>2020-03-27 10:17:01.01</createDt><deathCnt>139</deathCnt><decideCnt>9332</decideCnt><examCnt>15219</examCnt><resutlNegCnt>352410</resutlNegCnt><seq>87</seq><stateDt>20200327</stateDt><stateTime>00:00</stateTime><updateDt></updateDt></item><item><accDefRate>2.6359702544</accDefRate><accExamCnt>364942</accExamCnt><accExamCompCnt>350573</accExamCompCnt><careCnt>4966</careCnt><clearCnt>4144</clearCnt><createDt>2020-03-26 10:40:50.50</createDt><deathCnt>131</deathCnt><decideCnt>9241</decideCnt><examCnt>14369</examCnt><resutlNegCnt>341332</resutlNegCnt><seq>86</seq><stateDt>20200326</stateDt><stateTime>00:00</stateTime><updateDt></updateDt></item><item><accDefRate>2.6590574416</accDefRate><accExamCnt>357896</accExamCnt><accExamCompCnt>343618</accExamCompCnt><careCnt>5281</careCnt><clearCnt>3730</clearCnt><createDt>2020-03-25 10:12:04.04</createDt><deathCnt>126</deathCnt><decideCnt>9137</decideCnt><examCnt>14278</examCnt><resutlNegCnt>334481</resutlNegCnt><seq>85</seq><stateDt>20200325</stateDt><stateTime>00:00</stateTime><updateDt></updateDt></item><item><accDefRate>2.7126570651</accDefRate><accExamCnt>348582</accExamCnt><accExamCompCnt>333142</accExamCompCnt><careCnt>5410</careCnt><clearCnt>3507</clearCnt><createDt>2020-03-24 10:20:57.57</createDt><deathCnt>120</deathCnt><decideCnt>9037</decideCnt><examCnt>15440</examCnt><resutlNegCnt>324105</resutlNegCnt><seq>84</seq><stateDt>20200324</stateDt><stateTime>00:00</stateTime><updateDt>2020-04-07 19:37:58.58</updateDt></item><item><accDefRate>2.7126570651</accDefRate><accExamCnt>348582</accExamCnt><accExamCompCnt>333142</accExamCompCnt><careCnt>5410</careCnt><clearCnt>3507</clearCnt><createDt>2020-03-24 10:09:30.30</createDt><deathCnt>120</deathCnt><decideCnt>9037</decideCnt><examCnt>15440</examCnt><resutlNegCnt>324105</resutlNegCnt><seq>83</seq><stateDt>20200324</stateDt><stateTime>00:00</stateTime><updateDt></updateDt></item><item><accDefRate>2.7622623363</accDefRate><accExamCnt>338036</accExamCnt><accExamCompCnt>324408</accExamCompCnt><careCnt>5684</careCnt><clearCnt>3166</clearCnt><createDt>2020-03-23 10:27:32.32</createDt><deathCnt>111</deathCnt><decideCnt>8961</decideCnt><examCnt>13628</examCnt><resutlNegCnt>315447</resutlNegCnt><seq>82</seq><stateDt>20200323</stateDt><stateTime>00:00</stateTime><updateDt></updateDt></item><item><accDefRate>2.8045013239</accDefRate><accExamCnt>331780</accExamCnt><accExamCompCnt>317240</accExamCompCnt><careCnt>5884</careCnt><clearCnt>2909</clearCnt><createDt>2020-03-22 10:07:28.28</createDt><deathCnt>104</deathCnt><decideCnt>8897</decideCnt><examCnt>14540</examCnt><resutlNegCnt>308343</resutlNegCnt><seq>81</seq><stateDt>20200322</stateDt><stateTime>00:00</stateTime><updateDt></updateDt></item><item><accDefRate>2.8219560302</accDefRate><accExamCnt>327509</accExamCnt><accExamCompCnt>311805</accExamCompCnt><careCnt>6085</careCnt><clearCnt>2612</clearCnt><createDt>2020-03-21 10:02:58.58</createDt><deathCnt>102</deathCnt><decideCnt>8799</decideCnt><examCnt>15704</examCnt><resutlNegCnt>303006</resutlNegCnt><seq>80</seq><stateDt>20200321</stateDt><stateTime>00:00</stateTime><updateDt></updateDt></item><item><accDefRate>2.8730918280</accDefRate><accExamCnt>316664</accExamCnt><accExamCompCnt>301139</accExamCompCnt><careCnt>6325</careCnt><clearCnt>2233</clearCnt><createDt>2020-03-20 10:15:59.59</createDt><deathCnt>94</deathCnt><decideCnt>8652</decideCnt><examCnt>15525</examCnt><resutlNegCnt>292487</resutlNegCnt><seq>79</seq><stateDt>20200320</stateDt><stateTime>00:00</stateTime><updateDt></updateDt></item><item><accDefRate>2.9420857378</accDefRate><accExamCnt>307024</accExamCnt><accExamCompCnt>291120</accExamCompCnt><careCnt>6527</careCnt><clearCnt>1947</clearCnt><createDt>2020-03-19 10:07:57.57</createDt><deathCnt>91</deathCnt><decideCnt>8565</decideCnt><examCnt>15904</examCnt><resutlNegCnt>282555</resutlNegCnt><seq>78</seq><stateDt>20200319</stateDt><stateTime>00:00</stateTime><updateDt></updateDt></item><item><accDefRate>3.0121625056</accDefRate><accExamCnt>295647</accExamCnt><accExamCompCnt>279301</accExamCompCnt><careCnt>6789</careCnt><clearCnt>1540</clearCnt><createDt>2020-03-18 10:26:15.15</createDt><deathCnt>84</deathCnt><decideCnt>8413</decideCnt><examCnt>16346</examCnt><resutlNegCnt>270888</resutlNegCnt><seq>77</seq><stateDt>20200318</stateDt><stateTime>00:00</stateTime><updateDt></updateDt></item><item><accDefRate>3.0880579010</accDefRate><accExamCnt>286716</accExamCnt><accExamCompCnt>269425</accExamCompCnt><careCnt>6838</careCnt><clearCnt>1401</clearCnt><createDt>2020-03-17 10:29:38.38</createDt><deathCnt>81</deathCnt><decideCnt>8320</decideCnt><examCnt>17291</examCnt><resutlNegCnt>261105</resutlNegCnt><seq>76</seq><stateDt>20200317</stateDt><stateTime>00:00</stateTime><updateDt></updateDt></item><item><accDefRate>3.1733922083</accDefRate><accExamCnt>274504</accExamCnt><accExamCompCnt>259533</accExamCompCnt><careCnt>7024</careCnt><clearCnt>1137</clearCnt><createDt>2020-03-16 10:12:33.33</createDt><deathCnt>75</deathCnt><decideCnt>8236</decideCnt><examCnt>14971</examCnt><resutlNegCnt>251297</resutlNegCnt><seq>75</seq><stateDt>20200316</stateDt><stateTime>00:00</stateTime><updateDt></updateDt></item><item><accDefRate>3.2396602365</accDefRate><accExamCnt>268212</accExamCnt><accExamCompCnt>251940</accExamCompCnt><careCnt>7253</careCnt><clearCnt>834</clearCnt><createDt>2020-03-15 10:01:22.22</createDt><deathCnt>75</deathCnt><decideCnt>8162</decideCnt><examCnt>16272</examCnt><resutlNegCnt>243778</resutlNegCnt><seq>74</seq><stateDt>20200315</stateDt><stateTime>00:00</stateTime><updateDt></updateDt></item><item><accDefRate>3.3180003364</accDefRate><accExamCnt>261335</accExamCnt><accExamCompCnt>243701</accExamCompCnt><careCnt>7300</careCnt><clearCnt>714</clearCnt><createDt>2020-03-14 10:29:11.11</createDt><deathCnt>72</deathCnt><decideCnt>8086</decideCnt><examCnt>17634</examCnt><resutlNegCnt>235615</resutlNegCnt><seq>73</seq><stateDt>20200314</stateDt><stateTime>00:00</stateTime><updateDt>2020-03-14 10:34:07.07</updateDt></item><item><accDefRate>3.4584993086</accDefRate><accExamCnt>248647</accExamCnt><accExamCompCnt>230707</accExamCompCnt><careCnt>7402</careCnt><clearCnt>510</clearCnt><createDt>2020-03-13 10:07:22.22</createDt><deathCnt>67</deathCnt><decideCnt>7979</decideCnt><examCnt>17940</examCnt><resutlNegCnt>222728</resutlNegCnt><seq>72</seq><stateDt>20200313</stateDt><stateTime>00:00</stateTime><updateDt></updateDt></item><item><accDefRate>3.6217442732</accDefRate><accExamCnt>234998</accExamCnt><accExamCompCnt>217271</accExamCompCnt><careCnt>7470</careCnt><clearCnt>333</clearCnt><createDt>2020-03-12 10:37:03.03</createDt><deathCnt>66</deathCnt><decideCnt>7869</decideCnt><examCnt>17727</examCnt><resutlNegCnt>209402</resutlNegCnt><seq>71</seq><stateDt>20200312</stateDt><stateTime>00:00</stateTime><updateDt></updateDt></item><item><accDefRate>3.8041745358</accDefRate><accExamCnt>222395</accExamCnt><accExamCompCnt>203855</accExamCompCnt><careCnt>7407</careCnt><clearCnt>288</clearCnt><createDt>2020-03-11 10:17:19.19</createDt><deathCnt>60</deathCnt><decideCnt>7755</decideCnt><examCnt>18540</examCnt><resutlNegCnt>196100</resutlNegCnt><seq>70</seq><stateDt>20200311</stateDt><stateTime>00:00</stateTime><updateDt></updateDt></item><item><accDefRate>3.9193080566</accDefRate><accExamCnt>210144</accExamCnt><accExamCompCnt>191692</accExamCompCnt><careCnt>7212</careCnt><clearCnt>247</clearCnt><createDt>2020-03-10 10:20:27.27</createDt><deathCnt>54</deathCnt><decideCnt>7513</decideCnt><examCnt>18452</examCnt><resutlNegCnt>184179</resutlNegCnt><seq>69</seq><stateDt>20200310</stateDt><stateTime>00:00</stateTime><updateDt></updateDt></item><item><accDefRate>4.1203393614</accDefRate><accExamCnt>196618</accExamCnt><accExamCompCnt>179160</accExamCompCnt><careCnt>7165</careCnt><clearCnt>166</clearCnt><createDt>2020-03-09 10:47:15.15</createDt><deathCnt>51</deathCnt><decideCnt>7382</decideCnt><examCnt>17458</examCnt><resutlNegCnt>171778</resutlNegCnt><seq>68</seq><stateDt>20200309</stateDt><stateTime>00:00</stateTime><updateDt>2020-03-09 13:29:59.59</updateDt></item><item><accDefRate>4.2177578602</accDefRate><accExamCnt>188518</accExamCnt><accExamCompCnt>169142</accExamCompCnt><careCnt>6954</careCnt><clearCnt>130</clearCnt><createDt>2020-03-08 11:16:27.27</createDt><deathCnt>50</deathCnt><decideCnt>7134</decideCnt><examCnt>19376</examCnt><resutlNegCnt>162008</resutlNegCnt><seq>67</seq><stateDt>20200308</stateDt><stateTime>00:00</stateTime><updateDt>2020-03-09 13:35:51.51</updateDt></item><item><accDefRate>4.2675428362</accDefRate><accExamCnt>178189</accExamCnt><accExamCompCnt>158569</accExamCompCnt><careCnt>6605</careCnt><clearCnt>118</clearCnt><createDt>2020-03-07 11:00:45.45</createDt><deathCnt>44</deathCnt><decideCnt>6767</decideCnt><examCnt>19620</examCnt><resutlNegCnt>151802</resutlNegCnt><seq>66</seq><stateDt>20200307</stateDt><stateTime>00:00</stateTime><updateDt>2020-03-09 13:36:26.26</updateDt></item><item><accDefRate>4.3972345844</accDefRate><accExamCnt>164740</accExamCnt><accExamCompCnt>142908</accExamCompCnt><careCnt>6134</careCnt><clearCnt>108</clearCnt><createDt>2020-03-06 12:55:44.44</createDt><deathCnt>42</deathCnt><decideCnt>6284</decideCnt><examCnt>21832</examCnt><resutlNegCnt>136624</resutlNegCnt><seq>65</seq><stateDt>20200306</stateDt><stateTime>00:00</stateTime><updateDt>2020-03-09 14:05:01.01</updateDt></item><item><accDefRate>4.6227481540</accDefRate><accExamCnt>146541</accExamCnt><accExamCompCnt>124731</accExamCompCnt><careCnt>5643</careCnt><clearCnt>88</clearCnt><createDt>2020-03-05 10:15:12.12</createDt><deathCnt>35</deathCnt><decideCnt>5766</decideCnt><examCnt>21810</examCnt><resutlNegCnt>118965</resutlNegCnt><seq>64</seq><stateDt>20200305</stateDt><stateTime>00:00</stateTime><updateDt>2020-03-09 14:06:01.01</updateDt></item><item><accDefRate>4.9199855946</accDefRate><accExamCnt>136707</accExamCnt><accExamCompCnt>108293</accExamCompCnt><careCnt>5255</careCnt><clearCnt>41</clearCnt><createDt>2020-03-04 10:21:44.44</createDt><deathCnt>32</deathCnt><decideCnt>5328</decideCnt><examCnt>28414</examCnt><resutlNegCnt>102965</resutlNegCnt><seq>63</seq><stateDt>20200304</stateDt><stateTime>00:00</stateTime><updateDt>2020-03-09 14:06:59.59</updateDt></item><item><accDefRate>5.3291397182</accDefRate><accExamCnt>125851</accExamCnt><accExamCompCnt>90296</accExamCompCnt><careCnt>4750</careCnt><clearCnt>34</clearCnt><createDt>2020-03-03 10:46:53.53</createDt><deathCnt>28</deathCnt><decideCnt>4812</decideCnt><examCnt>35555</examCnt><resutlNegCnt>85484</resutlNegCnt><seq>62</seq><stateDt>20200303</stateDt><stateTime>00:00</stateTime><updateDt>2020-03-09 14:08:12.12</updateDt></item><item><accDefRate>5.5573147561</accDefRate><accExamCnt>109591</accExamCnt><accExamCompCnt>75792</accExamCompCnt><careCnt>4159</careCnt><clearCnt>31</clearCnt><createDt>2020-03-02 10:52:38.38</createDt><deathCnt>22</deathCnt><decideCnt>4212</decideCnt><examCnt>33799</examCnt><resutlNegCnt>71580</resutlNegCnt><seq>61</seq><stateDt>20200302</stateDt><stateTime>00:00</stateTime><updateDt>2020-03-09 14:08:51.51</updateDt></item></items><numOfRows>10</numOfRows><pageNo>1</pageNo><totalCount>31</totalCount></body></response>'\n"
          ],
          "name": "stdout"
        },
        {
          "output_type": "execute_result",
          "data": {
            "text/html": [
              "<div>\n",
              "<style scoped>\n",
              "    .dataframe tbody tr th:only-of-type {\n",
              "        vertical-align: middle;\n",
              "    }\n",
              "\n",
              "    .dataframe tbody tr th {\n",
              "        vertical-align: top;\n",
              "    }\n",
              "\n",
              "    .dataframe thead th {\n",
              "        text-align: right;\n",
              "    }\n",
              "</style>\n",
              "<table border=\"1\" class=\"dataframe\">\n",
              "  <thead>\n",
              "    <tr style=\"text-align: right;\">\n",
              "      <th></th>\n",
              "      <th>accDefRate</th>\n",
              "      <th>accExamCnt</th>\n",
              "      <th>accExamCompCnt</th>\n",
              "      <th>careCnt</th>\n",
              "      <th>clearCnt</th>\n",
              "      <th>createDt</th>\n",
              "      <th>deathCnt</th>\n",
              "      <th>decideCnt</th>\n",
              "      <th>examCnt</th>\n",
              "      <th>resutlNegCnt</th>\n",
              "      <th>seq</th>\n",
              "      <th>stateDt</th>\n",
              "      <th>stateTime</th>\n",
              "    </tr>\n",
              "  </thead>\n",
              "  <tbody>\n",
              "    <tr>\n",
              "      <th>0</th>\n",
              "      <td>2.4858257635</td>\n",
              "      <td>410564</td>\n",
              "      <td>393672</td>\n",
              "      <td>4216</td>\n",
              "      <td>5408</td>\n",
              "      <td>2020-03-31 11:00:44.44</td>\n",
              "      <td>162</td>\n",
              "      <td>9786</td>\n",
              "      <td>16892</td>\n",
              "      <td>383886</td>\n",
              "      <td>91</td>\n",
              "      <td>20200331</td>\n",
              "      <td>00:00</td>\n",
              "    </tr>\n",
              "    <tr>\n",
              "      <th>1</th>\n",
              "      <td>2.5312906936</td>\n",
              "      <td>395194</td>\n",
              "      <td>381663</td>\n",
              "      <td>4275</td>\n",
              "      <td>5228</td>\n",
              "      <td>2020-03-30 10:32:34.34</td>\n",
              "      <td>158</td>\n",
              "      <td>9661</td>\n",
              "      <td>13531</td>\n",
              "      <td>372002</td>\n",
              "      <td>90</td>\n",
              "      <td>20200330</td>\n",
              "      <td>00:00</td>\n",
              "    </tr>\n",
              "    <tr>\n",
              "      <th>2</th>\n",
              "      <td>2.5277423881</td>\n",
              "      <td>394141</td>\n",
              "      <td>379113</td>\n",
              "      <td>4398</td>\n",
              "      <td>5033</td>\n",
              "      <td>2020-03-29 10:10:20.20</td>\n",
              "      <td>152</td>\n",
              "      <td>9583</td>\n",
              "      <td>15028</td>\n",
              "      <td>369530</td>\n",
              "      <td>89</td>\n",
              "      <td>20200329</td>\n",
              "      <td>00:00</td>\n",
              "    </tr>\n",
              "    <tr>\n",
              "      <th>3</th>\n",
              "      <td>2.5522335409</td>\n",
              "      <td>387925</td>\n",
              "      <td>371361</td>\n",
              "      <td>4523</td>\n",
              "      <td>4811</td>\n",
              "      <td>2020-03-28 10:30:06.06</td>\n",
              "      <td>144</td>\n",
              "      <td>9478</td>\n",
              "      <td>16564</td>\n",
              "      <td>361883</td>\n",
              "      <td>88</td>\n",
              "      <td>20200328</td>\n",
              "      <td>00:00</td>\n",
              "    </tr>\n",
              "    <tr>\n",
              "      <th>4</th>\n",
              "      <td>2.5797391511</td>\n",
              "      <td>376961</td>\n",
              "      <td>361742</td>\n",
              "      <td>4665</td>\n",
              "      <td>4528</td>\n",
              "      <td>2020-03-27 10:17:01.01</td>\n",
              "      <td>139</td>\n",
              "      <td>9332</td>\n",
              "      <td>15219</td>\n",
              "      <td>352410</td>\n",
              "      <td>87</td>\n",
              "      <td>20200327</td>\n",
              "      <td>00:00</td>\n",
              "    </tr>\n",
              "  </tbody>\n",
              "</table>\n",
              "</div>"
            ],
            "text/plain": [
              "     accDefRate accExamCnt accExamCompCnt  ... seq   stateDt stateTime\n",
              "0  2.4858257635     410564         393672  ...  91  20200331     00:00\n",
              "1  2.5312906936     395194         381663  ...  90  20200330     00:00\n",
              "2  2.5277423881     394141         379113  ...  89  20200329     00:00\n",
              "3  2.5522335409     387925         371361  ...  88  20200328     00:00\n",
              "4  2.5797391511     376961         361742  ...  87  20200327     00:00\n",
              "\n",
              "[5 rows x 13 columns]"
            ]
          },
          "metadata": {
            "tags": []
          },
          "execution_count": 84
        }
      ]
    },
    {
      "cell_type": "code",
      "metadata": {
        "id": "wxYw8fFTyuXI",
        "colab_type": "code",
        "colab": {}
      },
      "source": [
        ""
      ],
      "execution_count": 61,
      "outputs": []
    }
  ]
}