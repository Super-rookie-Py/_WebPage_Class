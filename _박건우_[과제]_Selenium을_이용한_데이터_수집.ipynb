{
  "nbformat": 4,
  "nbformat_minor": 0,
  "metadata": {
    "colab": {
      "name": "_박건우-[과제] Selenium을 이용한 데이터 수집.ipynb",
      "provenance": [],
      "collapsed_sections": [],
      "authorship_tag": "ABX9TyMvQ5vum7vYShHbFDi1E5kf",
      "include_colab_link": true
    },
    "kernelspec": {
      "name": "python3",
      "display_name": "Python 3"
    }
  },
  "cells": [
    {
      "cell_type": "markdown",
      "metadata": {
        "id": "view-in-github",
        "colab_type": "text"
      },
      "source": [
        "<a href=\"https://colab.research.google.com/github/Super-rookie-Py/_WebProgramming_Class/blob/master/_%EB%B0%95%EA%B1%B4%EC%9A%B0_%5B%EA%B3%BC%EC%A0%9C%5D_Selenium%EC%9D%84_%EC%9D%B4%EC%9A%A9%ED%95%9C_%EB%8D%B0%EC%9D%B4%ED%84%B0_%EC%88%98%EC%A7%91.ipynb\" target=\"_parent\"><img src=\"https://colab.research.google.com/assets/colab-badge.svg\" alt=\"Open In Colab\"/></a>"
      ]
    },
    {
      "cell_type": "markdown",
      "metadata": {
        "id": "LgoQL2nVUOGa",
        "colab_type": "text"
      },
      "source": [
        ""
      ]
    },
    {
      "cell_type": "markdown",
      "metadata": {
        "id": "YC0u-MJqUPcf",
        "colab_type": "text"
      },
      "source": [
        "# [과제] Selenium을 이용한 데이터 수집\n",
        "- keonwoo Park 2020/09/15\n",
        "- https://book.naver.com/ 네이버 책"
      ]
    },
    {
      "cell_type": "code",
      "metadata": {
        "id": "uabVWXNBUIZ6",
        "colab_type": "code",
        "colab": {
          "base_uri": "https://localhost:8080/",
          "height": 390
        },
        "outputId": "b25764ac-ecee-4c9f-9fb6-27c9d4a6c169"
      },
      "source": [
        "!pip install Selenium\n",
        "!apt-get update\n",
        "!apt install chromium-chromedriver\n",
        "!cp /usr/lib/chromium-broser/chromedriver /usr/bin\n",
        "\n",
        "import sys\n",
        "sys.path.insert(0, '/usr/lib/chromium-broser/chromedriver')\n"
      ],
      "execution_count": 44,
      "outputs": [
        {
          "output_type": "stream",
          "text": [
            "Requirement already satisfied: Selenium in /usr/local/lib/python3.6/dist-packages (3.141.0)\n",
            "Requirement already satisfied: urllib3 in /usr/local/lib/python3.6/dist-packages (from Selenium) (1.24.3)\n",
            "Ign:1 https://developer.download.nvidia.com/compute/cuda/repos/ubuntu1804/x86_64  InRelease\n",
            "Hit:2 https://cloud.r-project.org/bin/linux/ubuntu bionic-cran35/ InRelease\n",
            "Ign:3 https://developer.download.nvidia.com/compute/machine-learning/repos/ubuntu1804/x86_64  InRelease\n",
            "Hit:4 http://ppa.launchpad.net/graphics-drivers/ppa/ubuntu bionic InRelease\n",
            "Get:5 http://security.ubuntu.com/ubuntu bionic-security InRelease [88.7 kB]\n",
            "Hit:6 https://developer.download.nvidia.com/compute/cuda/repos/ubuntu1804/x86_64  Release\n",
            "Hit:7 https://developer.download.nvidia.com/compute/machine-learning/repos/ubuntu1804/x86_64  Release\n",
            "Hit:8 http://archive.ubuntu.com/ubuntu bionic InRelease\n",
            "Hit:9 http://ppa.launchpad.net/marutter/c2d4u3.5/ubuntu bionic InRelease\n",
            "Get:10 http://archive.ubuntu.com/ubuntu bionic-updates InRelease [88.7 kB]\n",
            "Get:11 http://archive.ubuntu.com/ubuntu bionic-backports InRelease [74.6 kB]\n",
            "Fetched 252 kB in 2s (125 kB/s)\n",
            "Reading package lists... Done\n",
            "Reading package lists... Done\n",
            "Building dependency tree       \n",
            "Reading state information... Done\n",
            "chromium-chromedriver is already the newest version (85.0.4183.83-0ubuntu0.18.04.2).\n",
            "0 upgraded, 0 newly installed, 0 to remove and 12 not upgraded.\n",
            "cp: cannot stat '/usr/lib/chromium-broser/chromedriver': No such file or directory\n"
          ],
          "name": "stdout"
        }
      ]
    },
    {
      "cell_type": "code",
      "metadata": {
        "id": "XvvdMCQaY3D6",
        "colab_type": "code",
        "colab": {}
      },
      "source": [
        "from selenium import webdriver\n",
        "from selenium.common.exceptions import NoSuchElementException\n",
        "\n",
        "chrome_options = webdriver.ChromeOptions()\n",
        "chrome_options.add_argument('--headless')\n",
        "chrome_options.add_argument('--no-sandbox')\n",
        "chrome_options.add_argument('--disable-dev-shm-usage')"
      ],
      "execution_count": 51,
      "outputs": []
    },
    {
      "cell_type": "code",
      "metadata": {
        "id": "UC-x36xVZDS-",
        "colab_type": "code",
        "colab": {}
      },
      "source": [
        "from urllib.parse import quote\n",
        "import time\n",
        "import pandas as pd\n",
        "\n",
        "def get_books(query, page_num =10):\n",
        "\n",
        "  wd = webdriver.Chrome('chromedriver', options = chrome_options)\n",
        "  wd.implicitly_wait(3)\n",
        "  url_query = quote(query)\n",
        "  url = 'https://book.naver.com/search/search.nhn?sm=sta_hty.book&sug=&where=nexearch&query=' + url_query\n",
        "  wd.get(url)\n",
        "\n",
        "  author = []\n",
        "  title = []\n",
        "  publisher = []\n",
        "  idx = 0\n",
        "  book_df = pd.DataFrame(columns=('Title', \"Author\",\"Publisher\", \"Date\", \"Price\"))\n",
        "\n",
        "  for page_no in range(1,page_num+1):\n",
        "    if page_no % 10 != 1:\n",
        "      page_ul = wd.find_element_by_class_name('paginate')\n",
        "      page_a = page_ul.find_element_by_link_text(str(page_no))\n",
        "      page_a.click()\n",
        "      time.sleep(1)\n",
        "\n",
        "    book_info = wd.find_elements_by_css_selector('#searchBiblioList > li > dl')\n",
        "    for i in book_info:\n",
        "      try:\n",
        "        block = i.find_element_by_class_name('txt_block')\n",
        "        date = block.text.split(' ')[-1]\n",
        "        title_sub = i.find_element_by_tag_name('dt')\n",
        "        title = title_sub.find_element_by_tag_name('a').text\n",
        "        author = block.find_element_by_tag_name('a').text\n",
        "        publisher = block.find_elements_by_tag_name('a')[-1].text\n",
        "        price = i.find_element_by_class_name(\"txt_desc\")\n",
        "        lowest_price = price.find_element_by_class_name('price').text\n",
        "      except:\n",
        "        continue\n",
        "      book_df.loc[idx]=[title,author, publisher, date, lowest_price]\n",
        "      idx += 1\n",
        "    try:        \n",
        "      if page_no % 10 == 0:\n",
        "        next_button = page_ul.find_element_by_class_name('next')\n",
        "        next_button.click()\n",
        "        time_sleep(1)\n",
        "    except:\n",
        "      break\n",
        "\n",
        "  \n",
        "  return book_df"
      ],
      "execution_count": 209,
      "outputs": []
    },
    {
      "cell_type": "code",
      "metadata": {
        "id": "tIzIopo0ev5f",
        "colab_type": "code",
        "colab": {
          "base_uri": "https://localhost:8080/",
          "height": 424
        },
        "outputId": "f163cdca-e6b4-463b-e079-f27ad9992e05"
      },
      "source": [
        "query = input(\"검색 질의: \")\n",
        "get_books(query, 12)"
      ],
      "execution_count": 211,
      "outputs": [
        {
          "output_type": "stream",
          "text": [
            "검색 질의: 추리\n"
          ],
          "name": "stdout"
        },
        {
          "output_type": "execute_result",
          "data": {
            "text/html": [
              "<div>\n",
              "<style scoped>\n",
              "    .dataframe tbody tr th:only-of-type {\n",
              "        vertical-align: middle;\n",
              "    }\n",
              "\n",
              "    .dataframe tbody tr th {\n",
              "        vertical-align: top;\n",
              "    }\n",
              "\n",
              "    .dataframe thead th {\n",
              "        text-align: right;\n",
              "    }\n",
              "</style>\n",
              "<table border=\"1\" class=\"dataframe\">\n",
              "  <thead>\n",
              "    <tr style=\"text-align: right;\">\n",
              "      <th></th>\n",
              "      <th>Title</th>\n",
              "      <th>Author</th>\n",
              "      <th>Publisher</th>\n",
              "      <th>Date</th>\n",
              "      <th>Price</th>\n",
              "    </tr>\n",
              "  </thead>\n",
              "  <tbody>\n",
              "    <tr>\n",
              "      <th>0</th>\n",
              "      <td>추리 천재 엉덩이 탐정 9</td>\n",
              "      <td>트롤</td>\n",
              "      <td>아이세움</td>\n",
              "      <td>2020.01.15</td>\n",
              "      <td>10,800원(-10%)</td>\n",
              "    </tr>\n",
              "    <tr>\n",
              "      <th>1</th>\n",
              "      <td>2020 하주응의 PSAT for NCS 추리.상황판단 핵심 기본서</td>\n",
              "      <td>하주응.위포트 연구소</td>\n",
              "      <td>위포트</td>\n",
              "      <td>2020.05.29</td>\n",
              "      <td>21,420원(-10%)</td>\n",
              "    </tr>\n",
              "    <tr>\n",
              "      <th>2</th>\n",
              "      <td>추리 천재 엉덩이 탐정 8</td>\n",
              "      <td>트롤</td>\n",
              "      <td>아이세움</td>\n",
              "      <td>2019.07.25</td>\n",
              "      <td>10,800원(-10%)</td>\n",
              "    </tr>\n",
              "    <tr>\n",
              "      <th>3</th>\n",
              "      <td>2020 하반기 최신판 위포트 대기업 인적성 &amp; NCS 수리.추리 집중 완성</td>\n",
              "      <td>위포트 연구소</td>\n",
              "      <td>위포트</td>\n",
              "      <td>2020.07.16</td>\n",
              "      <td>17,910원(-10%)</td>\n",
              "    </tr>\n",
              "    <tr>\n",
              "      <th>4</th>\n",
              "      <td>추리 천재 엉덩이 탐정과 카레사건</td>\n",
              "      <td>트롤</td>\n",
              "      <td>아이세움</td>\n",
              "      <td>2019.05.01</td>\n",
              "      <td>10,800원(-10%)</td>\n",
              "    </tr>\n",
              "    <tr>\n",
              "      <th>...</th>\n",
              "      <td>...</td>\n",
              "      <td>...</td>\n",
              "      <td>...</td>\n",
              "      <td>...</td>\n",
              "      <td>...</td>\n",
              "    </tr>\n",
              "    <tr>\n",
              "      <th>159</th>\n",
              "      <td>너도밤 나무집 (Copper Beeches) - 셜록 홈즈 추리 단편소설 시리즈ㅣ영문판ㅣ</td>\n",
              "      <td>아서 코난 도일(Arthur Conan Doyle)</td>\n",
              "      <td>부크크(Bookk)</td>\n",
              "      <td>2019.05.31</td>\n",
              "      <td>6,200원</td>\n",
              "    </tr>\n",
              "    <tr>\n",
              "      <th>160</th>\n",
              "      <td>실종된 스리쿼터백 (Missing Three-Quarter) - 셜록 홈즈 추리 단...</td>\n",
              "      <td>아서 코난 도일 (Arthur Conan Doyle)</td>\n",
              "      <td>부크크(Bookk)</td>\n",
              "      <td>2019.05.31</td>\n",
              "      <td>6,000원</td>\n",
              "    </tr>\n",
              "    <tr>\n",
              "      <th>161</th>\n",
              "      <td>금테 코안경 (Golden Pince-Nez) - 셜록 홈즈 추리 단편소설 시리즈ㅣ...</td>\n",
              "      <td>아서 코난 도일 (Arthur Conan Doyle)</td>\n",
              "      <td>부크크(Bookk)</td>\n",
              "      <td>2019.05.31</td>\n",
              "      <td>6,200원</td>\n",
              "    </tr>\n",
              "    <tr>\n",
              "      <th>162</th>\n",
              "      <td>악마의 발 (Devil's Foot) - 셜록 홈즈 추리 단편소설 시리즈ㅣ영문판ㅣ</td>\n",
              "      <td>아서 코난 도일 (Arthur Conan Doyle)</td>\n",
              "      <td>부크크(Bookk)</td>\n",
              "      <td>2019.05.31</td>\n",
              "      <td>6,200원</td>\n",
              "    </tr>\n",
              "    <tr>\n",
              "      <th>163</th>\n",
              "      <td>추리 천재 엉덩이 탐정 원형 크로스백</td>\n",
              "      <td>편집부</td>\n",
              "      <td>미래엔아이세움</td>\n",
              "      <td>2019.10.25</td>\n",
              "      <td>12,000원(-20%)</td>\n",
              "    </tr>\n",
              "  </tbody>\n",
              "</table>\n",
              "<p>164 rows × 5 columns</p>\n",
              "</div>"
            ],
            "text/plain": [
              "                                                 Title  ...          Price\n",
              "0                                       추리 천재 엉덩이 탐정 9  ...  10,800원(-10%)\n",
              "1                2020 하주응의 PSAT for NCS 추리.상황판단 핵심 기본서  ...  21,420원(-10%)\n",
              "2                                       추리 천재 엉덩이 탐정 8  ...  10,800원(-10%)\n",
              "3           2020 하반기 최신판 위포트 대기업 인적성 & NCS 수리.추리 집중 완성  ...  17,910원(-10%)\n",
              "4                                   추리 천재 엉덩이 탐정과 카레사건  ...  10,800원(-10%)\n",
              "..                                                 ...  ...            ...\n",
              "159  너도밤 나무집 (Copper Beeches) - 셜록 홈즈 추리 단편소설 시리즈ㅣ영문판ㅣ  ...         6,200원\n",
              "160  실종된 스리쿼터백 (Missing Three-Quarter) - 셜록 홈즈 추리 단...  ...         6,000원\n",
              "161  금테 코안경 (Golden Pince-Nez) - 셜록 홈즈 추리 단편소설 시리즈ㅣ...  ...         6,200원\n",
              "162      악마의 발 (Devil's Foot) - 셜록 홈즈 추리 단편소설 시리즈ㅣ영문판ㅣ  ...         6,200원\n",
              "163                               추리 천재 엉덩이 탐정 원형 크로스백  ...  12,000원(-20%)\n",
              "\n",
              "[164 rows x 5 columns]"
            ]
          },
          "metadata": {
            "tags": []
          },
          "execution_count": 211
        }
      ]
    }
  ]
}