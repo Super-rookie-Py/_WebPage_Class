{
  "nbformat": 4,
  "nbformat_minor": 0,
  "metadata": {
    "colab": {
      "name": "박건우 - _네이버 블로그 스크래핑.ipynb",
      "provenance": [],
      "collapsed_sections": [],
      "include_colab_link": true
    },
    "kernelspec": {
      "name": "python3",
      "display_name": "Python 3"
    }
  },
  "cells": [
    {
      "cell_type": "markdown",
      "metadata": {
        "id": "view-in-github",
        "colab_type": "text"
      },
      "source": [
        "<a href=\"https://colab.research.google.com/github/Super-rookie-Py/_WebProgramming_Class/blob/master/%EB%B0%95%EA%B1%B4%EC%9A%B0__%EB%84%A4%EC%9D%B4%EB%B2%84_%EB%B8%94%EB%A1%9C%EA%B7%B8_%EC%8A%A4%ED%81%AC%EB%9E%98%ED%95%91.ipynb\" target=\"_parent\"><img src=\"https://colab.research.google.com/assets/colab-badge.svg\" alt=\"Open In Colab\"/></a>"
      ]
    },
    {
      "cell_type": "markdown",
      "metadata": {
        "id": "UPHtVV-4zEJ6",
        "colab_type": "text"
      },
      "source": [
        "# BeautyfulSoup 네이버 블로그 스크래핑"
      ]
    },
    {
      "cell_type": "markdown",
      "metadata": {
        "id": "d3qHWncUqw14",
        "colab_type": "text"
      },
      "source": [
        "## 블로그 포스트 스크래핑 함수 정의"
      ]
    },
    {
      "cell_type": "code",
      "metadata": {
        "id": "xnVKBykSiGh5",
        "colab_type": "code",
        "colab": {}
      },
      "source": [
        "from bs4 import BeautifulSoup\n",
        "import urllib.request\n",
        "import pandas as pd\n",
        "from urllib.parse import quote\n",
        "\n",
        "def get_posts(query, page_num=10):\n",
        "\n",
        "  url_query = quote(query)\n",
        "  url = \"https://search.naver.com/search.naver?where=post&query=\" + url_query\n",
        "  post_df = pd.DataFrame(columns = (\"Title\", \"Date\",\"Blogger\", \"Blog URL\", \"Post URL\", \"Post\"))\n",
        "  idx = 0\n",
        "\n",
        "  for _ in range(0, page_num):\n",
        "    search_url = urllib.request.urlopen(url).read()\n",
        "    soup = BeautifulSoup(search_url, 'html.parser')\n",
        "    posts = soup.find_all('li',{'class':'sh_blog_top'})\n",
        "\n",
        "    for post in posts:\n",
        "      title = post.find('a', {'class': 'sh_blog_title _sp_each_url _sp_each_title'}).get('title')\n",
        "      date = post.find('dd', {'class': 'txt_inline'}).get_text()\n",
        "      blogger = post.find('a', {'class': 'txt84'}).get_text()\n",
        "      blog_url = post.find('a', {'class': 'txt84'}).get('href')\n",
        "      post_url = post.find('a', {'class': 'url'}).get('href')\n",
        "      post_link = urllib.request.urlopen(post_url).read()\n",
        "      post_html = BeautifulSoup(post_link, \"html.parser\")\n",
        "\n",
        "      for main_frame in post_html.select(\"iframe#mainFrame\"):\n",
        "        frame_url = \"https://blog.naver.com\"+ main_frame.get('src')\n",
        "        post_text = urllib.request.urlopen(frame_url).read()\n",
        "        post_html = BeautifulSoup(post_text, \"html.parser\")\n",
        "        post_content_text = \"\"\n",
        "\n",
        "        for post_content in post_html.find_all('div', {'class': 'se-main-container'}):\n",
        "          post_content_text = post_content.get_text()\n",
        "\n",
        "        post_content_text = post_content_text.replace(\"\\n\", \"\")\n",
        "        post_content_text = post_content_text.replace(\"\\t\", \"\")\n",
        "\n",
        "        post_df.loc[idx] = [title, date, blogger, blog_url, post_url, post_content_text]\n",
        "        idx +=1\n",
        "        print(\"#\",end=\"\")\n",
        "    try:\n",
        "      next = soup.find('a', {'class': 'next'}).get('href')\n",
        "      url = \"https://search.naver.com/search.naver\" + next\n",
        "    except:\n",
        "      break\n",
        "\n",
        "  return post_df"
      ],
      "execution_count": 4,
      "outputs": []
    },
    {
      "cell_type": "markdown",
      "metadata": {
        "id": "tJftiNeEq6A5",
        "colab_type": "text"
      },
      "source": [
        "## 블로그 포스트 스크래핑 실행\n"
      ]
    },
    {
      "cell_type": "code",
      "metadata": {
        "id": "1Ik6uftXiHys",
        "colab_type": "code",
        "colab": {
          "base_uri": "https://localhost:8080/",
          "height": 52
        },
        "outputId": "d8d3888f-81f6-4583-83ad-b5be83ee76d5"
      },
      "source": [
        "query = input(\"검색 질의: \")\n",
        "post_df = get_posts(query, 10)\n",
        "print(\"Done\")"
      ],
      "execution_count": 7,
      "outputs": [
        {
          "output_type": "stream",
          "text": [
            "검색 질의: 인공지능\n",
            "######################################################################Done\n"
          ],
          "name": "stdout"
        }
      ]
    },
    {
      "cell_type": "code",
      "metadata": {
        "id": "tGlgikpSsAox",
        "colab_type": "code",
        "colab": {
          "base_uri": "https://localhost:8080/",
          "height": 673
        },
        "outputId": "d5093747-2302-4aee-e9af-168ebee2732d"
      },
      "source": [
        "post_df"
      ],
      "execution_count": 8,
      "outputs": [
        {
          "output_type": "execute_result",
          "data": {
            "text/html": [
              "<div>\n",
              "<style scoped>\n",
              "    .dataframe tbody tr th:only-of-type {\n",
              "        vertical-align: middle;\n",
              "    }\n",
              "\n",
              "    .dataframe tbody tr th {\n",
              "        vertical-align: top;\n",
              "    }\n",
              "\n",
              "    .dataframe thead th {\n",
              "        text-align: right;\n",
              "    }\n",
              "</style>\n",
              "<table border=\"1\" class=\"dataframe\">\n",
              "  <thead>\n",
              "    <tr style=\"text-align: right;\">\n",
              "      <th></th>\n",
              "      <th>Title</th>\n",
              "      <th>Date</th>\n",
              "      <th>Blogger</th>\n",
              "      <th>Blog URL</th>\n",
              "      <th>Post URL</th>\n",
              "      <th>Post</th>\n",
              "    </tr>\n",
              "  </thead>\n",
              "  <tbody>\n",
              "    <tr>\n",
              "      <th>0</th>\n",
              "      <td>인공지능, 학교 속으로! - 인공지능(AI), 초등 수학 공부 도우미로, 고교 진로...</td>\n",
              "      <td>어제</td>\n",
              "      <td>교육부</td>\n",
              "      <td>https://blog.naver.com/moeblog</td>\n",
              "      <td>https://blog.naver.com/moeblog?Redirect=Log&amp;lo...</td>\n",
              "      <td>◈ 초등학교 수학 학력 격차 해소를 위한 인공지능(AI) 활용 시스템 도입◈ 고등학...</td>\n",
              "    </tr>\n",
              "    <tr>\n",
              "      <th>1</th>\n",
              "      <td>태양계 이야기 838 - 인공지능을 통한 자율 임무 수행을 검토 중인 타이탄 탐사선</td>\n",
              "      <td>2020.08.07.</td>\n",
              "      <td>고든의 블로그</td>\n",
              "      <td>https://blog.naver.com/jjy0501</td>\n",
              "      <td>https://blog.naver.com/jjy0501?Redirect=Log&amp;lo...</td>\n",
              "      <td></td>\n",
              "    </tr>\n",
              "    <tr>\n",
              "      <th>2</th>\n",
              "      <td>인공지능융합시대의 투자 최적지 &lt;광주경제자유구역 지정&gt;</td>\n",
              "      <td>2020.06.05.</td>\n",
              "      <td>광주광역시</td>\n",
              "      <td>https://blog.naver.com/dodreamgj</td>\n",
              "      <td>https://blog.naver.com/dodreamgj?Redirect=Log&amp;...</td>\n",
              "      <td>대한민국의 민주와 자유를수호하던 광주인공지능융합시대의 투자 최적지,광주경제자유구역...</td>\n",
              "    </tr>\n",
              "    <tr>\n",
              "      <th>3</th>\n",
              "      <td>말하지 않아도 알아...생각 읽는 인공지능 기술 공개</td>\n",
              "      <td>2020.04.01.</td>\n",
              "      <td>테크플러스</td>\n",
              "      <td>https://blog.naver.com/tech-plus</td>\n",
              "      <td>https://blog.naver.com/tech-plus?Redirect=Log&amp;...</td>\n",
              "      <td>캘리포니아대학교 샌프란시스코캠퍼스(UCSF) 연구진이 문장을 떠올리기만 해도 텍스트...</td>\n",
              "    </tr>\n",
              "    <tr>\n",
              "      <th>4</th>\n",
              "      <td>인공지능의 시대, 데이터가 필요 없는 제로샷 학습!</td>\n",
              "      <td>2020.04.02.</td>\n",
              "      <td>과학기술정보통신부 블로그</td>\n",
              "      <td>https://blog.naver.com/with_msip</td>\n",
              "      <td>https://blog.naver.com/with_msip?Redirect=Log&amp;...</td>\n",
              "      <td>우리 일상 속으로 깊숙하게 자리 잡은 인공지능, 혹시 이러한 인공지능(AI)이 ...</td>\n",
              "    </tr>\n",
              "    <tr>\n",
              "      <th>...</th>\n",
              "      <td>...</td>\n",
              "      <td>...</td>\n",
              "      <td>...</td>\n",
              "      <td>...</td>\n",
              "      <td>...</td>\n",
              "      <td>...</td>\n",
              "    </tr>\n",
              "    <tr>\n",
              "      <th>65</th>\n",
              "      <td>『인공지능 윤리하다』 출간 기념 이벤트 (9월 7일~9월 20일)</td>\n",
              "      <td>2020.09.01.</td>\n",
              "      <td>한 권의 책, 만 번의 즐거움</td>\n",
              "      <td>https://blog.naver.com/amhbook</td>\n",
              "      <td>https://blog.naver.com/amhbook?Redirect=Log&amp;lo...</td>\n",
              "      <td>※ 기대평은 9월 7일부터 남기실 수 있습니다.​ ​​  [이벤트 상세 내용]​◆ ...</td>\n",
              "    </tr>\n",
              "    <tr>\n",
              "      <th>66</th>\n",
              "      <td>전기장판 전자파제로 셀리온 인공지능 매트</td>\n",
              "      <td>2020.09.04.</td>\n",
              "      <td>바람과 구름이 머무...</td>\n",
              "      <td>https://blog.naver.com/sr3d</td>\n",
              "      <td>https://blog.naver.com/sr3d?Redirect=Log&amp;logNo...</td>\n",
              "      <td>요 며칠 강한 비바람과 함께 태풍이 참 많이도 올라오고 있는데요, 그렇게 무덥던 날...</td>\n",
              "    </tr>\n",
              "    <tr>\n",
              "      <th>67</th>\n",
              "      <td>인공지능 중심도시 광주, 일자리 창출 스타트!!</td>\n",
              "      <td>2020.03.16.</td>\n",
              "      <td>광주광역시</td>\n",
              "      <td>https://blog.naver.com/dodreamgj</td>\n",
              "      <td>https://blog.naver.com/dodreamgj?Redirect=Log&amp;...</td>\n",
              "      <td>4차 산업혁명 시대의 핵심이자광주의 미래가 될 인공지능 산업!​인공지능 중심도시...</td>\n",
              "    </tr>\n",
              "    <tr>\n",
              "      <th>68</th>\n",
              "      <td>FW17SADWA2 휘센LG인공지능에어컨</td>\n",
              "      <td>6일 전</td>\n",
              "      <td>알뜰 가전제품 정보...</td>\n",
              "      <td>https://blog.naver.com/mentoring33</td>\n",
              "      <td>https://blog.naver.com/mentoring33?Redirect=Lo...</td>\n",
              "      <td></td>\n",
              "    </tr>\n",
              "    <tr>\n",
              "      <th>69</th>\n",
              "      <td>고교 AI 과목(인공지능) 내년 도입</td>\n",
              "      <td>2020.08.17.</td>\n",
              "      <td>* beautiful daily ...</td>\n",
              "      <td>https://blog.naver.com/treat8282</td>\n",
              "      <td>https://blog.naver.com/treat8282?Redirect=Log&amp;...</td>\n",
              "      <td></td>\n",
              "    </tr>\n",
              "  </tbody>\n",
              "</table>\n",
              "<p>70 rows × 6 columns</p>\n",
              "</div>"
            ],
            "text/plain": [
              "                                                Title  ...                                               Post\n",
              "0   인공지능, 학교 속으로! - 인공지능(AI), 초등 수학 공부 도우미로, 고교 진로...  ...  ◈ 초등학교 수학 학력 격차 해소를 위한 인공지능(AI) 활용 시스템 도입◈ 고등학...\n",
              "1      태양계 이야기 838 - 인공지능을 통한 자율 임무 수행을 검토 중인 타이탄 탐사선  ...                                                   \n",
              "2                      인공지능융합시대의 투자 최적지 <광주경제자유구역 지정>  ...   대한민국의 민주와 자유를수호하던 광주인공지능융합시대의 투자 최적지,광주경제자유구역...\n",
              "3                       말하지 않아도 알아...생각 읽는 인공지능 기술 공개  ...  캘리포니아대학교 샌프란시스코캠퍼스(UCSF) 연구진이 문장을 떠올리기만 해도 텍스트...\n",
              "4                        인공지능의 시대, 데이터가 필요 없는 제로샷 학습!  ...    우리 일상 속으로 깊숙하게 자리 잡은 인공지능, 혹시 이러한 인공지능(AI)이 ...\n",
              "..                                                ...  ...                                                ...\n",
              "65               『인공지능 윤리하다』 출간 기념 이벤트 (9월 7일~9월 20일)  ...  ※ 기대평은 9월 7일부터 남기실 수 있습니다.​ ​​  [이벤트 상세 내용]​◆ ...\n",
              "66                             전기장판 전자파제로 셀리온 인공지능 매트  ...  요 며칠 강한 비바람과 함께 태풍이 참 많이도 올라오고 있는데요, 그렇게 무덥던 날...\n",
              "67                         인공지능 중심도시 광주, 일자리 창출 스타트!!  ...    4차 산업혁명 시대의 핵심이자광주의 미래가 될 인공지능 산업!​인공지능 중심도시...\n",
              "68                             FW17SADWA2 휘센LG인공지능에어컨  ...                                                   \n",
              "69                               고교 AI 과목(인공지능) 내년 도입  ...                                                   \n",
              "\n",
              "[70 rows x 6 columns]"
            ]
          },
          "metadata": {
            "tags": []
          },
          "execution_count": 8
        }
      ]
    }
  ]
}